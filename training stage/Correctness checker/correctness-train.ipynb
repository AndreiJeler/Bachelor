{
 "cells": [
  {
   "cell_type": "code",
   "execution_count": 1,
   "id": "better-belize",
   "metadata": {},
   "outputs": [],
   "source": [
    "import os\n",
    "import random\n",
    "import pandas as pd\n",
    "import numpy as np\n",
    "import tensorflow as tf"
   ]
  },
  {
   "cell_type": "code",
   "execution_count": 51,
   "id": "incorrect-praise",
   "metadata": {},
   "outputs": [
    {
     "name": "stdout",
     "output_type": "stream",
     "text": [
      "['back', 'good', 'legs']\n"
     ]
    }
   ],
   "source": [
    "dataset=[]\n",
    "y=[]\n",
    "# the number of frames to be included in a sequence\n",
    "Fs = 10\n",
    "# change the locattion of the dataset here\n",
    "root_path = \"squats/\"\n",
    "\n",
    "classes = os.listdir(root_path)\n",
    "print(classes)\n",
    "for class_name in classes:\n",
    "    class_path = root_path + \"/\" + class_name\n",
    "    files = [class_path + \"/\" + f for f in os.listdir(class_path) if os.path.isfile(class_path + '/' + f)]\n",
    "    for file in files:\n",
    "      df = pd.read_csv(file)\n",
    "      # remove the face keypoints from the data frame\n",
    "      df = df.iloc[:,36:]\n",
    "      # if the models for squats are trained, the keypoints for the arms are removed\n",
    "      if root_path == \"squats/\":\n",
    "        for i in range(14, 24, 1):\n",
    "          df=df.drop(\"x\"+str(i), axis = \"columns\")\n",
    "          df=df.drop(\"y\"+str(i), axis = \"columns\")\n",
    "          df=df.drop(\"z\"+str(i), axis = \"columns\")\n",
    "          df=df.drop(\"v\"+str(i), axis = \"columns\")\n",
    "      for i in range(len(df) - Fs):\n",
    "          dataset.append(df.iloc[i:i+Fs].to_numpy())\n",
    "          y.append(class_name)"
   ]
  },
  {
   "cell_type": "code",
   "execution_count": 52,
   "id": "broadband-fleece",
   "metadata": {},
   "outputs": [
    {
     "data": {
      "text/plain": [
       "62626"
      ]
     },
     "execution_count": 52,
     "metadata": {},
     "output_type": "execute_result"
    }
   ],
   "source": [
    "len(y)"
   ]
  },
  {
   "cell_type": "code",
   "execution_count": 53,
   "id": "broke-thesis",
   "metadata": {},
   "outputs": [
    {
     "data": {
      "text/plain": [
       "{'back': 18875, 'good': 27958, 'legs': 15793}"
      ]
     },
     "execution_count": 53,
     "metadata": {},
     "output_type": "execute_result"
    }
   ],
   "source": [
    "unique, counts = np.unique(np.array(y), return_counts=True)\n",
    "dict(zip(unique, counts))"
   ]
  },
  {
   "cell_type": "code",
   "execution_count": 54,
   "id": "desperate-information",
   "metadata": {},
   "outputs": [],
   "source": [
    "y = np.array(y)\n",
    "dataset = np.asarray(dataset)"
   ]
  },
  {
   "cell_type": "code",
   "execution_count": 55,
   "id": "corporate-clinton",
   "metadata": {},
   "outputs": [
    {
     "data": {
      "text/plain": [
       "(62626, 10, 56)"
      ]
     },
     "execution_count": 55,
     "metadata": {},
     "output_type": "execute_result"
    }
   ],
   "source": [
    "dataset.shape"
   ]
  },
  {
   "cell_type": "code",
   "execution_count": 56,
   "id": "indian-satin",
   "metadata": {},
   "outputs": [
    {
     "data": {
      "text/plain": [
       "array([[1., 0., 0.],\n",
       "       [1., 0., 0.],\n",
       "       [1., 0., 0.],\n",
       "       ...,\n",
       "       [0., 0., 1.],\n",
       "       [0., 0., 1.],\n",
       "       [0., 0., 1.]], dtype=float32)"
      ]
     },
     "execution_count": 56,
     "metadata": {},
     "output_type": "execute_result"
    }
   ],
   "source": [
    "from sklearn.preprocessing import LabelEncoder,StandardScaler\n",
    "\n",
    "encoder = LabelEncoder()\n",
    "y = encoder.fit_transform(y)\n",
    "y = tf.keras.utils.to_categorical(y)\n",
    "y"
   ]
  },
  {
   "cell_type": "code",
   "execution_count": 57,
   "id": "official-porter",
   "metadata": {},
   "outputs": [
    {
     "data": {
      "text/plain": [
       "array(['back', 'good', 'legs'], dtype='<U4')"
      ]
     },
     "execution_count": 57,
     "metadata": {},
     "output_type": "execute_result"
    }
   ],
   "source": [
    "encoder.classes_"
   ]
  },
  {
   "cell_type": "code",
   "execution_count": 58,
   "id": "humanitarian-hello",
   "metadata": {},
   "outputs": [],
   "source": [
    "from sklearn.model_selection import train_test_split\n",
    "\n",
    "x_train, x_test, y_train, y_test = train_test_split(dataset, y, test_size=0.33, random_state=42)"
   ]
  },
  {
   "cell_type": "code",
   "execution_count": 59,
   "id": "small-player",
   "metadata": {},
   "outputs": [
    {
     "name": "stdout",
     "output_type": "stream",
     "text": [
      "(41959, 10, 56)\n",
      "(20667, 10, 56)\n",
      "(10, 56)\n"
     ]
    }
   ],
   "source": [
    "print(x_train.shape)\n",
    "print(x_test.shape)\n",
    "print(x_train[0].shape)"
   ]
  },
  {
   "source": [
    "Train the model for the shallow CNN architecture and plot the accuracy and loss curves"
   ],
   "cell_type": "markdown",
   "metadata": {}
  },
  {
   "cell_type": "code",
   "execution_count": 60,
   "id": "invalid-publisher",
   "metadata": {},
   "outputs": [
    {
     "name": "stdout",
     "output_type": "stream",
     "text": [
      "Model: \"sequential_4\"\n",
      "_________________________________________________________________\n",
      "Layer (type)                 Output Shape              Param #   \n",
      "=================================================================\n",
      "conv1d_6 (Conv1D)            (None, 9, 32)             3616      \n",
      "_________________________________________________________________\n",
      "max_pooling1d_6 (MaxPooling1 (None, 4, 32)             0         \n",
      "_________________________________________________________________\n",
      "flatten_4 (Flatten)          (None, 128)               0         \n",
      "_________________________________________________________________\n",
      "dense_6 (Dense)              (None, 3)                 387       \n",
      "=================================================================\n",
      "Total params: 4,003\n",
      "Trainable params: 4,003\n",
      "Non-trainable params: 0\n",
      "_________________________________________________________________\n",
      "Epoch 1/100\n",
      "1312/1312 [==============================] - 3s 2ms/step - loss: 0.8159 - accuracy: 0.6096 - val_loss: 0.6148 - val_accuracy: 0.7307\n",
      "Epoch 2/100\n",
      "1312/1312 [==============================] - 3s 2ms/step - loss: 0.6121 - accuracy: 0.7294 - val_loss: 0.5529 - val_accuracy: 0.7712\n",
      "Epoch 3/100\n",
      "1312/1312 [==============================] - 3s 2ms/step - loss: 0.5481 - accuracy: 0.7627 - val_loss: 0.5176 - val_accuracy: 0.7839\n",
      "Epoch 4/100\n",
      "1312/1312 [==============================] - 3s 2ms/step - loss: 0.5013 - accuracy: 0.7862 - val_loss: 0.4953 - val_accuracy: 0.7848\n",
      "Epoch 5/100\n",
      "1312/1312 [==============================] - 3s 2ms/step - loss: 0.4579 - accuracy: 0.8111 - val_loss: 0.4264 - val_accuracy: 0.8237\n",
      "Epoch 6/100\n",
      "1312/1312 [==============================] - 3s 2ms/step - loss: 0.4280 - accuracy: 0.8270 - val_loss: 0.3911 - val_accuracy: 0.8496\n",
      "Epoch 7/100\n",
      "1312/1312 [==============================] - 3s 2ms/step - loss: 0.3995 - accuracy: 0.8430 - val_loss: 0.3730 - val_accuracy: 0.8569\n",
      "Epoch 8/100\n",
      "1312/1312 [==============================] - 3s 2ms/step - loss: 0.3746 - accuracy: 0.8518 - val_loss: 0.3401 - val_accuracy: 0.8726\n",
      "Epoch 9/100\n",
      "1312/1312 [==============================] - 3s 2ms/step - loss: 0.3541 - accuracy: 0.8629 - val_loss: 0.3365 - val_accuracy: 0.8738\n",
      "Epoch 10/100\n",
      "1312/1312 [==============================] - 4s 3ms/step - loss: 0.3304 - accuracy: 0.8726 - val_loss: 0.3102 - val_accuracy: 0.8846\n",
      "Epoch 11/100\n",
      "1312/1312 [==============================] - 3s 3ms/step - loss: 0.3165 - accuracy: 0.8786 - val_loss: 0.2906 - val_accuracy: 0.8911\n",
      "Epoch 12/100\n",
      "1312/1312 [==============================] - 3s 2ms/step - loss: 0.2980 - accuracy: 0.8858 - val_loss: 0.2825 - val_accuracy: 0.8963\n",
      "Epoch 13/100\n",
      "1312/1312 [==============================] - 3s 2ms/step - loss: 0.2799 - accuracy: 0.8956 - val_loss: 0.2528 - val_accuracy: 0.9081\n",
      "Epoch 14/100\n",
      "1312/1312 [==============================] - 3s 2ms/step - loss: 0.2718 - accuracy: 0.9002 - val_loss: 0.2569 - val_accuracy: 0.9030\n",
      "Epoch 15/100\n",
      "1312/1312 [==============================] - 3s 2ms/step - loss: 0.2544 - accuracy: 0.9026 - val_loss: 0.2399 - val_accuracy: 0.9095\n",
      "Epoch 16/100\n",
      "1312/1312 [==============================] - 3s 2ms/step - loss: 0.2485 - accuracy: 0.9058 - val_loss: 0.2780 - val_accuracy: 0.8922\n",
      "Epoch 17/100\n",
      "1312/1312 [==============================] - 3s 2ms/step - loss: 0.2370 - accuracy: 0.9134 - val_loss: 0.2207 - val_accuracy: 0.9159\n",
      "Epoch 18/100\n",
      "1312/1312 [==============================] - 3s 2ms/step - loss: 0.2278 - accuracy: 0.9142 - val_loss: 0.2284 - val_accuracy: 0.9144\n",
      "Epoch 19/100\n",
      "1312/1312 [==============================] - 3s 2ms/step - loss: 0.2212 - accuracy: 0.9182 - val_loss: 0.2111 - val_accuracy: 0.9210\n",
      "Epoch 20/100\n",
      "1312/1312 [==============================] - 3s 2ms/step - loss: 0.2062 - accuracy: 0.9248 - val_loss: 0.2576 - val_accuracy: 0.8971\n",
      "Epoch 21/100\n",
      "1312/1312 [==============================] - 3s 2ms/step - loss: 0.2043 - accuracy: 0.9256 - val_loss: 0.2013 - val_accuracy: 0.9278\n",
      "Epoch 22/100\n",
      "1312/1312 [==============================] - 3s 2ms/step - loss: 0.2012 - accuracy: 0.9250 - val_loss: 0.1877 - val_accuracy: 0.9332\n",
      "Epoch 23/100\n",
      "1312/1312 [==============================] - 3s 2ms/step - loss: 0.1951 - accuracy: 0.9291 - val_loss: 0.2627 - val_accuracy: 0.8948\n",
      "Epoch 24/100\n",
      "1312/1312 [==============================] - 3s 2ms/step - loss: 0.1958 - accuracy: 0.9261 - val_loss: 0.1880 - val_accuracy: 0.9304\n",
      "Epoch 25/100\n",
      "1312/1312 [==============================] - 3s 2ms/step - loss: 0.1892 - accuracy: 0.9307 - val_loss: 0.2015 - val_accuracy: 0.9243\n",
      "Epoch 26/100\n",
      "1312/1312 [==============================] - 3s 2ms/step - loss: 0.1863 - accuracy: 0.9309 - val_loss: 0.1742 - val_accuracy: 0.9374\n",
      "Epoch 27/100\n",
      "1312/1312 [==============================] - 2s 2ms/step - loss: 0.1843 - accuracy: 0.9328 - val_loss: 0.1671 - val_accuracy: 0.9404\n",
      "Epoch 28/100\n",
      "1312/1312 [==============================] - 3s 2ms/step - loss: 0.1861 - accuracy: 0.9316 - val_loss: 0.1902 - val_accuracy: 0.9270\n",
      "Epoch 29/100\n",
      "1312/1312 [==============================] - 3s 2ms/step - loss: 0.1772 - accuracy: 0.9359 - val_loss: 0.1839 - val_accuracy: 0.9318\n",
      "Epoch 30/100\n",
      "1312/1312 [==============================] - 3s 2ms/step - loss: 0.1776 - accuracy: 0.9338 - val_loss: 0.1594 - val_accuracy: 0.9409\n",
      "Epoch 31/100\n",
      "1312/1312 [==============================] - 3s 2ms/step - loss: 0.1722 - accuracy: 0.9362 - val_loss: 0.1902 - val_accuracy: 0.9297\n",
      "Epoch 32/100\n",
      "1312/1312 [==============================] - 3s 2ms/step - loss: 0.1755 - accuracy: 0.9359 - val_loss: 0.1832 - val_accuracy: 0.9340\n",
      "Epoch 33/100\n",
      "1312/1312 [==============================] - 3s 2ms/step - loss: 0.1682 - accuracy: 0.9375 - val_loss: 0.1570 - val_accuracy: 0.9448\n",
      "Epoch 34/100\n",
      "1312/1312 [==============================] - 3s 2ms/step - loss: 0.1720 - accuracy: 0.9368 - val_loss: 0.1491 - val_accuracy: 0.9471\n",
      "Epoch 35/100\n",
      "1312/1312 [==============================] - 3s 2ms/step - loss: 0.1645 - accuracy: 0.9403 - val_loss: 0.1618 - val_accuracy: 0.9412\n",
      "Epoch 36/100\n",
      "1312/1312 [==============================] - 3s 2ms/step - loss: 0.1567 - accuracy: 0.9431 - val_loss: 0.1664 - val_accuracy: 0.9360\n",
      "Epoch 37/100\n",
      "1312/1312 [==============================] - 3s 2ms/step - loss: 0.1622 - accuracy: 0.9401 - val_loss: 0.1541 - val_accuracy: 0.9410\n",
      "Epoch 38/100\n",
      "1312/1312 [==============================] - 2s 2ms/step - loss: 0.1565 - accuracy: 0.9433 - val_loss: 0.1391 - val_accuracy: 0.9490\n",
      "Epoch 39/100\n",
      "1312/1312 [==============================] - 3s 2ms/step - loss: 0.1576 - accuracy: 0.9408 - val_loss: 0.1458 - val_accuracy: 0.9489\n",
      "Epoch 40/100\n",
      "1312/1312 [==============================] - 3s 2ms/step - loss: 0.1590 - accuracy: 0.9413 - val_loss: 0.1588 - val_accuracy: 0.9417\n",
      "Epoch 41/100\n",
      "1312/1312 [==============================] - 3s 2ms/step - loss: 0.1515 - accuracy: 0.9446 - val_loss: 0.1534 - val_accuracy: 0.9429\n",
      "Epoch 42/100\n",
      "1312/1312 [==============================] - 2s 2ms/step - loss: 0.1534 - accuracy: 0.9436 - val_loss: 0.1308 - val_accuracy: 0.9549\n",
      "Epoch 43/100\n",
      "1312/1312 [==============================] - 2s 2ms/step - loss: 0.1400 - accuracy: 0.9494 - val_loss: 0.1753 - val_accuracy: 0.9354\n",
      "Epoch 44/100\n",
      "1312/1312 [==============================] - 2s 2ms/step - loss: 0.1446 - accuracy: 0.9470 - val_loss: 0.1436 - val_accuracy: 0.9503\n",
      "Epoch 45/100\n",
      "1312/1312 [==============================] - 2s 2ms/step - loss: 0.1488 - accuracy: 0.9473 - val_loss: 0.2167 - val_accuracy: 0.9185\n",
      "Epoch 46/100\n",
      "1312/1312 [==============================] - 2s 2ms/step - loss: 0.1382 - accuracy: 0.9500 - val_loss: 0.1987 - val_accuracy: 0.9205\n",
      "Epoch 47/100\n",
      "1312/1312 [==============================] - 2s 2ms/step - loss: 0.1422 - accuracy: 0.9474 - val_loss: 0.1289 - val_accuracy: 0.9528\n",
      "Epoch 48/100\n",
      "1312/1312 [==============================] - 2s 2ms/step - loss: 0.1456 - accuracy: 0.9470 - val_loss: 0.1440 - val_accuracy: 0.9470\n",
      "Epoch 49/100\n",
      "1312/1312 [==============================] - 3s 2ms/step - loss: 0.1342 - accuracy: 0.9524 - val_loss: 0.1255 - val_accuracy: 0.9547\n",
      "Epoch 50/100\n",
      "1312/1312 [==============================] - 3s 2ms/step - loss: 0.1357 - accuracy: 0.9512 - val_loss: 0.1428 - val_accuracy: 0.9497\n",
      "Epoch 51/100\n"
     ]
    },
    {
     "name": "stdout",
     "output_type": "stream",
     "text": [
      "1312/1312 [==============================] - 3s 2ms/step - loss: 0.1356 - accuracy: 0.9495 - val_loss: 0.1232 - val_accuracy: 0.9574\n",
      "Epoch 52/100\n",
      "1312/1312 [==============================] - 2s 2ms/step - loss: 0.1355 - accuracy: 0.9507 - val_loss: 0.1339 - val_accuracy: 0.9516\n",
      "Epoch 53/100\n",
      "1312/1312 [==============================] - 2s 2ms/step - loss: 0.1330 - accuracy: 0.9519 - val_loss: 0.1179 - val_accuracy: 0.9592\n",
      "Epoch 54/100\n",
      "1312/1312 [==============================] - 2s 2ms/step - loss: 0.1405 - accuracy: 0.9482 - val_loss: 0.1242 - val_accuracy: 0.9547\n",
      "Epoch 55/100\n",
      "1312/1312 [==============================] - 2s 2ms/step - loss: 0.1401 - accuracy: 0.9486 - val_loss: 0.1614 - val_accuracy: 0.9412\n",
      "Epoch 56/100\n",
      "1312/1312 [==============================] - 2s 2ms/step - loss: 0.1345 - accuracy: 0.9498 - val_loss: 0.1334 - val_accuracy: 0.9493\n",
      "Epoch 57/100\n",
      "1312/1312 [==============================] - 3s 2ms/step - loss: 0.1293 - accuracy: 0.9543 - val_loss: 0.1308 - val_accuracy: 0.9504\n",
      "Epoch 58/100\n",
      "1312/1312 [==============================] - 2s 2ms/step - loss: 0.1347 - accuracy: 0.9522 - val_loss: 0.1515 - val_accuracy: 0.9450\n",
      "Epoch 59/100\n",
      "1312/1312 [==============================] - 2s 2ms/step - loss: 0.1362 - accuracy: 0.9501 - val_loss: 0.1191 - val_accuracy: 0.9567\n",
      "Epoch 60/100\n",
      "1312/1312 [==============================] - 2s 2ms/step - loss: 0.1246 - accuracy: 0.9563 - val_loss: 0.1147 - val_accuracy: 0.9588\n",
      "Epoch 61/100\n",
      "1312/1312 [==============================] - 2s 2ms/step - loss: 0.1319 - accuracy: 0.9521 - val_loss: 0.1360 - val_accuracy: 0.9513\n",
      "Epoch 62/100\n",
      "1312/1312 [==============================] - 2s 2ms/step - loss: 0.1242 - accuracy: 0.9556 - val_loss: 0.1096 - val_accuracy: 0.9618\n",
      "Epoch 63/100\n",
      "1312/1312 [==============================] - 2s 2ms/step - loss: 0.1241 - accuracy: 0.9542 - val_loss: 0.1114 - val_accuracy: 0.9597\n",
      "Epoch 64/100\n",
      "1312/1312 [==============================] - 3s 2ms/step - loss: 0.1176 - accuracy: 0.9574 - val_loss: 0.1128 - val_accuracy: 0.9610\n",
      "Epoch 65/100\n",
      "1312/1312 [==============================] - 2s 2ms/step - loss: 0.1248 - accuracy: 0.9546 - val_loss: 0.1599 - val_accuracy: 0.9401\n",
      "Epoch 66/100\n",
      "1312/1312 [==============================] - 2s 2ms/step - loss: 0.1223 - accuracy: 0.9557 - val_loss: 0.1359 - val_accuracy: 0.9466\n",
      "Epoch 67/100\n",
      "1312/1312 [==============================] - 2s 2ms/step - loss: 0.1275 - accuracy: 0.9526 - val_loss: 0.1695 - val_accuracy: 0.9374\n",
      "Epoch 68/100\n",
      "1312/1312 [==============================] - 2s 2ms/step - loss: 0.1276 - accuracy: 0.9524 - val_loss: 0.1408 - val_accuracy: 0.9491\n",
      "Epoch 69/100\n",
      "1312/1312 [==============================] - 2s 2ms/step - loss: 0.1188 - accuracy: 0.9561 - val_loss: 0.1216 - val_accuracy: 0.9571\n",
      "Epoch 70/100\n",
      "1312/1312 [==============================] - 3s 2ms/step - loss: 0.1263 - accuracy: 0.9545 - val_loss: 0.1074 - val_accuracy: 0.9633\n",
      "Epoch 71/100\n",
      "1312/1312 [==============================] - 2s 2ms/step - loss: 0.1136 - accuracy: 0.9592 - val_loss: 0.1011 - val_accuracy: 0.9642\n",
      "Epoch 72/100\n",
      "1312/1312 [==============================] - 2s 2ms/step - loss: 0.1263 - accuracy: 0.9543 - val_loss: 0.1170 - val_accuracy: 0.9574\n",
      "Epoch 73/100\n",
      "1312/1312 [==============================] - 2s 2ms/step - loss: 0.1212 - accuracy: 0.9553 - val_loss: 0.1190 - val_accuracy: 0.9600\n",
      "Epoch 74/100\n",
      "1312/1312 [==============================] - 2s 2ms/step - loss: 0.1164 - accuracy: 0.9576 - val_loss: 0.1416 - val_accuracy: 0.9518\n",
      "Epoch 75/100\n",
      "1312/1312 [==============================] - 2s 2ms/step - loss: 0.1287 - accuracy: 0.9531 - val_loss: 0.1085 - val_accuracy: 0.9613\n",
      "Epoch 76/100\n",
      "1312/1312 [==============================] - 2s 2ms/step - loss: 0.1178 - accuracy: 0.9576 - val_loss: 0.1045 - val_accuracy: 0.9625\n",
      "Epoch 77/100\n",
      "1312/1312 [==============================] - 3s 2ms/step - loss: 0.1378 - accuracy: 0.9499 - val_loss: 0.1309 - val_accuracy: 0.9508\n",
      "Epoch 78/100\n",
      "1312/1312 [==============================] - 2s 2ms/step - loss: 0.1201 - accuracy: 0.9561 - val_loss: 0.1034 - val_accuracy: 0.9643\n",
      "Epoch 79/100\n",
      "1312/1312 [==============================] - 2s 2ms/step - loss: 0.1170 - accuracy: 0.9576 - val_loss: 0.1233 - val_accuracy: 0.9592\n",
      "Epoch 80/100\n",
      "1312/1312 [==============================] - 2s 2ms/step - loss: 0.1133 - accuracy: 0.9591 - val_loss: 0.1070 - val_accuracy: 0.9633\n",
      "Epoch 81/100\n",
      "1312/1312 [==============================] - 2s 2ms/step - loss: 0.1202 - accuracy: 0.9556 - val_loss: 0.1011 - val_accuracy: 0.9663\n",
      "Epoch 82/100\n",
      "1312/1312 [==============================] - 2s 2ms/step - loss: 0.1125 - accuracy: 0.9595 - val_loss: 0.1145 - val_accuracy: 0.9579\n",
      "Epoch 83/100\n",
      "1312/1312 [==============================] - 3s 2ms/step - loss: 0.1166 - accuracy: 0.9568 - val_loss: 0.1031 - val_accuracy: 0.9654\n",
      "Epoch 84/100\n",
      "1312/1312 [==============================] - 2s 2ms/step - loss: 0.1205 - accuracy: 0.9565 - val_loss: 0.1099 - val_accuracy: 0.9613\n",
      "Epoch 85/100\n",
      "1312/1312 [==============================] - 2s 2ms/step - loss: 0.1113 - accuracy: 0.9585 - val_loss: 0.1135 - val_accuracy: 0.9603\n",
      "Epoch 86/100\n",
      "1312/1312 [==============================] - 2s 2ms/step - loss: 0.1093 - accuracy: 0.9607 - val_loss: 0.1240 - val_accuracy: 0.9540\n",
      "Epoch 87/100\n",
      "1312/1312 [==============================] - 2s 2ms/step - loss: 0.1115 - accuracy: 0.9595 - val_loss: 0.1589 - val_accuracy: 0.9404\n",
      "Epoch 88/100\n",
      "1312/1312 [==============================] - 2s 2ms/step - loss: 0.1189 - accuracy: 0.9586 - val_loss: 0.0995 - val_accuracy: 0.9664\n",
      "Epoch 89/100\n",
      "1312/1312 [==============================] - 2s 2ms/step - loss: 0.1136 - accuracy: 0.9587 - val_loss: 0.1138 - val_accuracy: 0.9598\n",
      "Epoch 90/100\n",
      "1312/1312 [==============================] - 3s 2ms/step - loss: 0.1165 - accuracy: 0.9595 - val_loss: 0.0943 - val_accuracy: 0.9669\n",
      "Epoch 91/100\n",
      "1312/1312 [==============================] - 2s 2ms/step - loss: 0.1106 - accuracy: 0.9603 - val_loss: 0.1126 - val_accuracy: 0.9591\n",
      "Epoch 92/100\n",
      "1312/1312 [==============================] - 3s 2ms/step - loss: 0.1061 - accuracy: 0.9610 - val_loss: 0.0967 - val_accuracy: 0.9668\n",
      "Epoch 93/100\n",
      "1312/1312 [==============================] - 3s 2ms/step - loss: 0.1136 - accuracy: 0.9583 - val_loss: 0.1063 - val_accuracy: 0.9634\n",
      "Epoch 94/100\n",
      "1312/1312 [==============================] - 3s 2ms/step - loss: 0.1125 - accuracy: 0.9615 - val_loss: 0.1176 - val_accuracy: 0.9570\n",
      "Epoch 95/100\n",
      "1312/1312 [==============================] - 3s 2ms/step - loss: 0.1108 - accuracy: 0.9613 - val_loss: 0.1368 - val_accuracy: 0.9497\n",
      "Epoch 96/100\n",
      "1312/1312 [==============================] - 3s 2ms/step - loss: 0.1146 - accuracy: 0.9573 - val_loss: 0.0907 - val_accuracy: 0.9685\n",
      "Epoch 97/100\n",
      "1312/1312 [==============================] - 3s 2ms/step - loss: 0.1099 - accuracy: 0.9611 - val_loss: 0.0914 - val_accuracy: 0.9702\n",
      "Epoch 98/100\n",
      "1312/1312 [==============================] - 3s 2ms/step - loss: 0.1065 - accuracy: 0.9622 - val_loss: 0.1235 - val_accuracy: 0.9527\n",
      "Epoch 99/100\n",
      "1312/1312 [==============================] - 3s 2ms/step - loss: 0.1111 - accuracy: 0.9583 - val_loss: 0.0967 - val_accuracy: 0.9664\n",
      "Epoch 100/100\n",
      "1312/1312 [==============================] - 3s 2ms/step - loss: 0.1034 - accuracy: 0.9636 - val_loss: 0.0979 - val_accuracy: 0.9654\n"
     ]
    }
   ],
   "source": [
    "from keras.models import Sequential, Model\n",
    "from keras.layers import Dense, Flatten, TimeDistributed, LSTM, Input, Dropout\n",
    "from keras.layers.convolutional import Conv1D, MaxPooling1D\n",
    "\n",
    "cnn = Sequential()\n",
    "cnn.add(Conv1D(filters=32, kernel_size=2, activation='relu', input_shape=(x_train[0].shape)))\n",
    "cnn.add(MaxPooling1D(pool_size=2))\n",
    "cnn.add(Flatten())\n",
    "cnn.add(Dense(len(classes),activation=\"softmax\"))\n",
    "cnn.summary()\n",
    "cnn.compile(optimizer = \"adam\", loss=\"categorical_crossentropy\", metrics = ['accuracy'])\n",
    "cnn_hist = cnn.fit(x_train, y_train, epochs = 100, validation_data = (x_test, y_test), verbose = 1, batch_size=32)"
   ]
  },
  {
   "cell_type": "code",
   "execution_count": 61,
   "id": "opposite-lottery",
   "metadata": {},
   "outputs": [
    {
     "data": {
      "image/png": "[encoded data removed]",
      "text/plain": [
       "<Figure size 432x288 with 1 Axes>"
      ]
     },
     "metadata": {
      "needs_background": "light"
     },
     "output_type": "display_data"
    },
    {
     "name": "stdout",
     "output_type": "stream",
     "text": [
      "0.9614623785018921\n",
      "0.965355396270752\n"
     ]
    }
   ],
   "source": [
    "import matplotlib.pyplot as plt\n",
    "\n",
    "plt.plot(cnn_hist.history['accuracy'])\n",
    "plt.plot(cnn_hist.history['val_accuracy'])\n",
    "plt.title('model accuracy')\n",
    "plt.ylabel('accuracy')\n",
    "plt.xlabel('epoch')\n",
    "plt.legend(['train', 'test'], loc='upper left')\n",
    "plt.show()\n",
    "print(cnn_hist.history['accuracy'][-1])\n",
    "print(cnn_hist.history['val_accuracy'][-1])"
   ]
  },
  {
   "cell_type": "code",
   "execution_count": 62,
   "id": "restricted-viewer",
   "metadata": {},
   "outputs": [
    {
     "data": {
      "image/png": "[encoded data removed]",
      "text/plain": [
       "<Figure size 432x288 with 1 Axes>"
      ]
     },
     "metadata": {
      "needs_background": "light"
     },
     "output_type": "display_data"
    },
    {
     "name": "stdout",
     "output_type": "stream",
     "text": [
      "0.10684267431497574\n",
      "0.0978836789727211\n"
     ]
    }
   ],
   "source": [
    "import matplotlib.pyplot as plt\n",
    "\n",
    "plt.plot(cnn_hist.history['loss'])\n",
    "plt.plot(cnn_hist.history['val_loss'])\n",
    "plt.title('model loss')\n",
    "plt.ylabel('loss')\n",
    "plt.xlabel('epoch')\n",
    "plt.legend(['train', 'test'], loc='upper left')\n",
    "plt.show()\n",
    "print(cnn_hist.history['loss'][-1])\n",
    "print(cnn_hist.history['val_loss'][-1])"
   ]
  },
  {
   "source": [
    "Train the model for the deeper CNN architecture and plot the accuracy and loss curves"
   ],
   "cell_type": "markdown",
   "metadata": {}
  },
  {
   "cell_type": "code",
   "execution_count": 63,
   "id": "sharp-choir",
   "metadata": {},
   "outputs": [
    {
     "name": "stdout",
     "output_type": "stream",
     "text": [
      "Model: \"sequential_5\"\n",
      "_________________________________________________________________\n",
      "Layer (type)                 Output Shape              Param #   \n",
      "=================================================================\n",
      "conv1d_7 (Conv1D)            (None, 9, 512)            57856     \n",
      "_________________________________________________________________\n",
      "max_pooling1d_7 (MaxPooling1 (None, 4, 512)            0         \n",
      "_________________________________________________________________\n",
      "dense_7 (Dense)              (None, 4, 256)            131328    \n",
      "_________________________________________________________________\n",
      "conv1d_8 (Conv1D)            (None, 3, 128)            65664     \n",
      "_________________________________________________________________\n",
      "max_pooling1d_8 (MaxPooling1 (None, 1, 128)            0         \n",
      "_________________________________________________________________\n",
      "flatten_5 (Flatten)          (None, 128)               0         \n",
      "_________________________________________________________________\n",
      "dense_8 (Dense)              (None, 3)                 387       \n",
      "=================================================================\n",
      "Total params: 255,235\n",
      "Trainable params: 255,235\n",
      "Non-trainable params: 0\n",
      "_________________________________________________________________\n",
      "Epoch 1/100\n",
      "1312/1312 [==============================] - 7s 5ms/step - loss: 0.7233 - accuracy: 0.6512 - val_loss: 0.6472 - val_accuracy: 0.7211\n",
      "Epoch 2/100\n",
      "1312/1312 [==============================] - 6s 4ms/step - loss: 0.4905 - accuracy: 0.7879 - val_loss: 0.3640 - val_accuracy: 0.8524\n",
      "Epoch 3/100\n",
      "1312/1312 [==============================] - 6s 5ms/step - loss: 0.3351 - accuracy: 0.8638 - val_loss: 0.2713 - val_accuracy: 0.8964\n",
      "Epoch 4/100\n",
      "1312/1312 [==============================] - 7s 5ms/step - loss: 0.2703 - accuracy: 0.8932 - val_loss: 0.1943 - val_accuracy: 0.9222\n",
      "Epoch 5/100\n",
      "1312/1312 [==============================] - 7s 5ms/step - loss: 0.2147 - accuracy: 0.9149 - val_loss: 0.2140 - val_accuracy: 0.9152\n",
      "Epoch 6/100\n",
      "1312/1312 [==============================] - 7s 5ms/step - loss: 0.1817 - accuracy: 0.9282 - val_loss: 0.1811 - val_accuracy: 0.9261\n",
      "Epoch 7/100\n",
      "1312/1312 [==============================] - 6s 5ms/step - loss: 0.1679 - accuracy: 0.9339 - val_loss: 0.1112 - val_accuracy: 0.9609\n",
      "Epoch 8/100\n",
      "1312/1312 [==============================] - 6s 5ms/step - loss: 0.1530 - accuracy: 0.9405 - val_loss: 0.1847 - val_accuracy: 0.9264\n",
      "Epoch 9/100\n",
      "1312/1312 [==============================] - 7s 5ms/step - loss: 0.1359 - accuracy: 0.9494 - val_loss: 0.1266 - val_accuracy: 0.9485\n",
      "Epoch 10/100\n",
      "1312/1312 [==============================] - 6s 5ms/step - loss: 0.1210 - accuracy: 0.9531 - val_loss: 0.0813 - val_accuracy: 0.9689\n",
      "Epoch 11/100\n",
      "1312/1312 [==============================] - 7s 5ms/step - loss: 0.1036 - accuracy: 0.9617 - val_loss: 0.2646 - val_accuracy: 0.9063\n",
      "Epoch 12/100\n",
      "1312/1312 [==============================] - 6s 5ms/step - loss: 0.1178 - accuracy: 0.9553 - val_loss: 0.1039 - val_accuracy: 0.9591\n",
      "Epoch 13/100\n",
      "1312/1312 [==============================] - 6s 4ms/step - loss: 0.1017 - accuracy: 0.9611 - val_loss: 0.0759 - val_accuracy: 0.9716\n",
      "Epoch 14/100\n",
      "1312/1312 [==============================] - 6s 4ms/step - loss: 0.0898 - accuracy: 0.9669 - val_loss: 0.1377 - val_accuracy: 0.9492\n",
      "Epoch 15/100\n",
      "1312/1312 [==============================] - 7s 5ms/step - loss: 0.0937 - accuracy: 0.9647 - val_loss: 0.1948 - val_accuracy: 0.9205\n",
      "Epoch 16/100\n",
      "1312/1312 [==============================] - 6s 5ms/step - loss: 0.0834 - accuracy: 0.9700 - val_loss: 0.0682 - val_accuracy: 0.9751\n",
      "Epoch 17/100\n",
      "1312/1312 [==============================] - 6s 5ms/step - loss: 0.0807 - accuracy: 0.9702 - val_loss: 0.0666 - val_accuracy: 0.9752\n",
      "Epoch 18/100\n",
      "1312/1312 [==============================] - 6s 4ms/step - loss: 0.0757 - accuracy: 0.9715 - val_loss: 0.1024 - val_accuracy: 0.9593\n",
      "Epoch 19/100\n",
      "1312/1312 [==============================] - 7s 5ms/step - loss: 0.0721 - accuracy: 0.9729 - val_loss: 0.0947 - val_accuracy: 0.9668\n",
      "Epoch 20/100\n",
      "1312/1312 [==============================] - 6s 4ms/step - loss: 0.0721 - accuracy: 0.9732 - val_loss: 0.0584 - val_accuracy: 0.9801\n",
      "Epoch 21/100\n",
      "1312/1312 [==============================] - 7s 5ms/step - loss: 0.0696 - accuracy: 0.9742 - val_loss: 0.0704 - val_accuracy: 0.9765\n",
      "Epoch 22/100\n",
      "1312/1312 [==============================] - 6s 5ms/step - loss: 0.0560 - accuracy: 0.9793 - val_loss: 0.0439 - val_accuracy: 0.9848\n",
      "Epoch 23/100\n",
      "1312/1312 [==============================] - 6s 5ms/step - loss: 0.0670 - accuracy: 0.9745 - val_loss: 0.0483 - val_accuracy: 0.9835\n",
      "Epoch 24/100\n",
      "1312/1312 [==============================] - 6s 5ms/step - loss: 0.0520 - accuracy: 0.9800 - val_loss: 0.0480 - val_accuracy: 0.9841\n",
      "Epoch 25/100\n",
      "1312/1312 [==============================] - 6s 5ms/step - loss: 0.0568 - accuracy: 0.9796 - val_loss: 0.0406 - val_accuracy: 0.9853\n",
      "Epoch 26/100\n",
      "1312/1312 [==============================] - 6s 4ms/step - loss: 0.0486 - accuracy: 0.9817 - val_loss: 0.0660 - val_accuracy: 0.9768\n",
      "Epoch 27/100\n",
      "1312/1312 [==============================] - 6s 4ms/step - loss: 0.0581 - accuracy: 0.9789 - val_loss: 0.0442 - val_accuracy: 0.9843\n",
      "Epoch 28/100\n",
      "1312/1312 [==============================] - 6s 5ms/step - loss: 0.0644 - accuracy: 0.9787 - val_loss: 0.0604 - val_accuracy: 0.9762\n",
      "Epoch 29/100\n",
      "1312/1312 [==============================] - 6s 5ms/step - loss: 0.0653 - accuracy: 0.9777 - val_loss: 0.0440 - val_accuracy: 0.9866\n",
      "Epoch 30/100\n",
      "1312/1312 [==============================] - 6s 5ms/step - loss: 0.0460 - accuracy: 0.9834 - val_loss: 0.0993 - val_accuracy: 0.9613\n",
      "Epoch 31/100\n",
      "1312/1312 [==============================] - 7s 5ms/step - loss: 0.0489 - accuracy: 0.9830 - val_loss: 0.0494 - val_accuracy: 0.9829\n",
      "Epoch 32/100\n",
      "1312/1312 [==============================] - 7s 5ms/step - loss: 0.0500 - accuracy: 0.9819 - val_loss: 0.1216 - val_accuracy: 0.9621\n",
      "Epoch 33/100\n",
      "1312/1312 [==============================] - 6s 5ms/step - loss: 0.0696 - accuracy: 0.9758 - val_loss: 0.0280 - val_accuracy: 0.9901\n",
      "Epoch 34/100\n",
      "1312/1312 [==============================] - 7s 5ms/step - loss: 0.0530 - accuracy: 0.9822 - val_loss: 0.0449 - val_accuracy: 0.9839\n",
      "Epoch 35/100\n",
      "1312/1312 [==============================] - 6s 5ms/step - loss: 0.0628 - accuracy: 0.9792 - val_loss: 0.0428 - val_accuracy: 0.9848\n",
      "Epoch 36/100\n",
      "1312/1312 [==============================] - 6s 4ms/step - loss: 0.0529 - accuracy: 0.9814 - val_loss: 0.0297 - val_accuracy: 0.9900\n",
      "Epoch 37/100\n",
      "1312/1312 [==============================] - 6s 4ms/step - loss: 0.0536 - accuracy: 0.9824 - val_loss: 0.0478 - val_accuracy: 0.9835\n",
      "Epoch 38/100\n",
      "1312/1312 [==============================] - 6s 4ms/step - loss: 0.0491 - accuracy: 0.9830 - val_loss: 0.0226 - val_accuracy: 0.9941\n",
      "Epoch 39/100\n",
      "1312/1312 [==============================] - 6s 4ms/step - loss: 0.0284 - accuracy: 0.9902 - val_loss: 0.0355 - val_accuracy: 0.9886\n",
      "Epoch 40/100\n",
      "1312/1312 [==============================] - 6s 4ms/step - loss: 0.0523 - accuracy: 0.9823 - val_loss: 0.1922 - val_accuracy: 0.9406\n",
      "Epoch 41/100\n",
      "1312/1312 [==============================] - 6s 4ms/step - loss: 0.0504 - accuracy: 0.9825 - val_loss: 0.0374 - val_accuracy: 0.9880\n",
      "Epoch 42/100\n",
      "1312/1312 [==============================] - 6s 4ms/step - loss: 0.0607 - accuracy: 0.9808 - val_loss: 0.0448 - val_accuracy: 0.9838\n",
      "Epoch 43/100\n",
      "1312/1312 [==============================] - 6s 5ms/step - loss: 0.0409 - accuracy: 0.9857 - val_loss: 0.0473 - val_accuracy: 0.9843\n",
      "Epoch 44/100\n",
      "1312/1312 [==============================] - 6s 4ms/step - loss: 0.0541 - accuracy: 0.9818 - val_loss: 0.0383 - val_accuracy: 0.9855\n",
      "Epoch 45/100\n",
      "1312/1312 [==============================] - 6s 5ms/step - loss: 0.0414 - accuracy: 0.9856 - val_loss: 0.0576 - val_accuracy: 0.9816\n",
      "Epoch 46/100\n",
      "1312/1312 [==============================] - 6s 4ms/step - loss: 0.0605 - accuracy: 0.9810 - val_loss: 0.0256 - val_accuracy: 0.9917\n",
      "Epoch 47/100\n",
      "1312/1312 [==============================] - 6s 4ms/step - loss: 0.0403 - accuracy: 0.9852 - val_loss: 0.0557 - val_accuracy: 0.9803\n",
      "Epoch 48/100\n"
     ]
    },
    {
     "name": "stdout",
     "output_type": "stream",
     "text": [
      "1312/1312 [==============================] - 6s 4ms/step - loss: 0.0491 - accuracy: 0.9826 - val_loss: 0.0513 - val_accuracy: 0.9814\n",
      "Epoch 49/100\n",
      "1312/1312 [==============================] - 6s 4ms/step - loss: 0.0420 - accuracy: 0.9853 - val_loss: 0.0946 - val_accuracy: 0.9720\n",
      "Epoch 50/100\n",
      "1312/1312 [==============================] - 6s 4ms/step - loss: 0.0455 - accuracy: 0.9842 - val_loss: 0.1698 - val_accuracy: 0.9356\n",
      "Epoch 51/100\n",
      "1312/1312 [==============================] - 6s 4ms/step - loss: 0.1016 - accuracy: 0.9709 - val_loss: 0.0788 - val_accuracy: 0.9724\n",
      "Epoch 52/100\n",
      "1312/1312 [==============================] - 6s 4ms/step - loss: 0.0390 - accuracy: 0.9873 - val_loss: 0.0391 - val_accuracy: 0.9862\n",
      "Epoch 53/100\n",
      "1312/1312 [==============================] - 6s 4ms/step - loss: 0.0512 - accuracy: 0.9839 - val_loss: 0.0329 - val_accuracy: 0.9879\n",
      "Epoch 54/100\n",
      "1312/1312 [==============================] - 6s 4ms/step - loss: 0.0378 - accuracy: 0.9865 - val_loss: 0.0302 - val_accuracy: 0.9904\n",
      "Epoch 55/100\n",
      "1312/1312 [==============================] - 6s 4ms/step - loss: 0.0330 - accuracy: 0.9894 - val_loss: 0.0685 - val_accuracy: 0.9755\n",
      "Epoch 56/100\n",
      "1312/1312 [==============================] - 6s 5ms/step - loss: 0.0332 - accuracy: 0.9882 - val_loss: 0.0262 - val_accuracy: 0.9915\n",
      "Epoch 57/100\n",
      "1312/1312 [==============================] - 6s 4ms/step - loss: 0.0598 - accuracy: 0.9794 - val_loss: 0.0232 - val_accuracy: 0.9932\n",
      "Epoch 58/100\n",
      "1312/1312 [==============================] - 6s 5ms/step - loss: 0.0314 - accuracy: 0.9894 - val_loss: 0.0256 - val_accuracy: 0.9918\n",
      "Epoch 59/100\n",
      "1312/1312 [==============================] - 6s 4ms/step - loss: 0.0463 - accuracy: 0.9836 - val_loss: 0.0456 - val_accuracy: 0.9826\n",
      "Epoch 60/100\n",
      "1312/1312 [==============================] - 6s 4ms/step - loss: 0.0393 - accuracy: 0.9868 - val_loss: 0.0387 - val_accuracy: 0.9857\n",
      "Epoch 61/100\n",
      "1312/1312 [==============================] - 6s 4ms/step - loss: 0.0277 - accuracy: 0.9908 - val_loss: 0.0336 - val_accuracy: 0.9869\n",
      "Epoch 62/100\n",
      "1312/1312 [==============================] - 6s 4ms/step - loss: 0.0328 - accuracy: 0.9891 - val_loss: 0.0237 - val_accuracy: 0.9928\n",
      "Epoch 63/100\n",
      "1312/1312 [==============================] - 6s 4ms/step - loss: 0.0283 - accuracy: 0.9917 - val_loss: 0.0300 - val_accuracy: 0.9890\n",
      "Epoch 64/100\n",
      "1312/1312 [==============================] - 6s 4ms/step - loss: 0.0369 - accuracy: 0.9873 - val_loss: 0.0647 - val_accuracy: 0.9791\n",
      "Epoch 65/100\n",
      "1312/1312 [==============================] - 6s 4ms/step - loss: 0.0268 - accuracy: 0.9909 - val_loss: 0.1939 - val_accuracy: 0.9365\n",
      "Epoch 66/100\n",
      "1312/1312 [==============================] - 6s 4ms/step - loss: 0.0387 - accuracy: 0.9873 - val_loss: 0.0370 - val_accuracy: 0.9877\n",
      "Epoch 67/100\n",
      "1312/1312 [==============================] - 6s 4ms/step - loss: 0.0355 - accuracy: 0.9883 - val_loss: 0.0277 - val_accuracy: 0.9897\n",
      "Epoch 68/100\n",
      "1312/1312 [==============================] - 6s 4ms/step - loss: 0.0362 - accuracy: 0.9876 - val_loss: 0.0297 - val_accuracy: 0.9895\n",
      "Epoch 69/100\n",
      "1312/1312 [==============================] - 5s 4ms/step - loss: 0.0404 - accuracy: 0.9857 - val_loss: 0.0551 - val_accuracy: 0.9816\n",
      "Epoch 70/100\n",
      "1312/1312 [==============================] - 6s 4ms/step - loss: 0.0633 - accuracy: 0.9830 - val_loss: 0.0906 - val_accuracy: 0.9711\n",
      "Epoch 71/100\n",
      "1312/1312 [==============================] - 6s 4ms/step - loss: 0.0363 - accuracy: 0.9871 - val_loss: 0.0409 - val_accuracy: 0.9866\n",
      "Epoch 72/100\n",
      "1312/1312 [==============================] - 6s 4ms/step - loss: 0.0378 - accuracy: 0.9867 - val_loss: 0.0236 - val_accuracy: 0.9920\n",
      "Epoch 73/100\n",
      "1312/1312 [==============================] - 6s 4ms/step - loss: 0.0341 - accuracy: 0.9885 - val_loss: 0.0189 - val_accuracy: 0.9935\n",
      "Epoch 74/100\n",
      "1312/1312 [==============================] - 6s 4ms/step - loss: 0.0234 - accuracy: 0.9918 - val_loss: 0.0658 - val_accuracy: 0.9793\n",
      "Epoch 75/100\n",
      "1312/1312 [==============================] - 6s 4ms/step - loss: 0.0374 - accuracy: 0.9872 - val_loss: 0.0276 - val_accuracy: 0.9920\n",
      "Epoch 76/100\n",
      "1312/1312 [==============================] - 6s 4ms/step - loss: 0.0275 - accuracy: 0.9904 - val_loss: 0.0263 - val_accuracy: 0.9900\n",
      "Epoch 77/100\n",
      "1312/1312 [==============================] - 6s 4ms/step - loss: 0.0325 - accuracy: 0.9890 - val_loss: 0.0745 - val_accuracy: 0.9782\n",
      "Epoch 78/100\n",
      "1312/1312 [==============================] - 6s 4ms/step - loss: 0.0441 - accuracy: 0.9857 - val_loss: 0.0411 - val_accuracy: 0.9855\n",
      "Epoch 79/100\n",
      "1312/1312 [==============================] - 6s 4ms/step - loss: 0.0194 - accuracy: 0.9934 - val_loss: 0.0543 - val_accuracy: 0.9811\n",
      "Epoch 80/100\n",
      "1312/1312 [==============================] - 6s 4ms/step - loss: 0.0215 - accuracy: 0.9916 - val_loss: 0.0442 - val_accuracy: 0.9839\n",
      "Epoch 81/100\n",
      "1312/1312 [==============================] - 6s 4ms/step - loss: 0.0336 - accuracy: 0.9890 - val_loss: 0.0926 - val_accuracy: 0.9709\n",
      "Epoch 82/100\n",
      "1312/1312 [==============================] - 6s 4ms/step - loss: 0.0355 - accuracy: 0.9882 - val_loss: 0.0954 - val_accuracy: 0.9688\n",
      "Epoch 83/100\n",
      "1312/1312 [==============================] - 7s 5ms/step - loss: 0.0282 - accuracy: 0.9901 - val_loss: 0.0768 - val_accuracy: 0.9735\n",
      "Epoch 84/100\n",
      "1312/1312 [==============================] - 9s 7ms/step - loss: 0.0615 - accuracy: 0.9826 - val_loss: 0.0654 - val_accuracy: 0.9779\n",
      "Epoch 85/100\n",
      "1312/1312 [==============================] - 9s 7ms/step - loss: 0.0327 - accuracy: 0.9900 - val_loss: 0.0296 - val_accuracy: 0.9898\n",
      "Epoch 86/100\n",
      "1312/1312 [==============================] - 7s 5ms/step - loss: 0.0250 - accuracy: 0.9916 - val_loss: 0.0169 - val_accuracy: 0.9943\n",
      "Epoch 87/100\n",
      "1312/1312 [==============================] - 7s 5ms/step - loss: 0.0436 - accuracy: 0.9861 - val_loss: 0.0371 - val_accuracy: 0.9877\n",
      "Epoch 88/100\n",
      "1312/1312 [==============================] - 7s 5ms/step - loss: 0.0307 - accuracy: 0.9903 - val_loss: 0.0166 - val_accuracy: 0.9944\n",
      "Epoch 89/100\n",
      "1312/1312 [==============================] - 7s 5ms/step - loss: 0.0394 - accuracy: 0.9872 - val_loss: 0.0130 - val_accuracy: 0.9961\n",
      "Epoch 90/100\n",
      "1312/1312 [==============================] - 7s 5ms/step - loss: 0.0392 - accuracy: 0.9874 - val_loss: 0.0418 - val_accuracy: 0.9872\n",
      "Epoch 91/100\n",
      "1312/1312 [==============================] - 7s 5ms/step - loss: 0.0250 - accuracy: 0.9913 - val_loss: 0.0219 - val_accuracy: 0.9939\n",
      "Epoch 92/100\n",
      "1312/1312 [==============================] - 7s 5ms/step - loss: 0.0325 - accuracy: 0.9903 - val_loss: 0.0143 - val_accuracy: 0.9954\n",
      "Epoch 93/100\n",
      "1312/1312 [==============================] - 7s 5ms/step - loss: 0.0341 - accuracy: 0.9898 - val_loss: 0.0391 - val_accuracy: 0.9887\n",
      "Epoch 94/100\n",
      "1312/1312 [==============================] - 8s 6ms/step - loss: 0.0471 - accuracy: 0.9866 - val_loss: 0.0187 - val_accuracy: 0.9942\n",
      "Epoch 95/100\n",
      "1312/1312 [==============================] - 8s 6ms/step - loss: 0.0229 - accuracy: 0.9919 - val_loss: 0.0422 - val_accuracy: 0.9871\n",
      "Epoch 96/100\n",
      "1312/1312 [==============================] - 7s 5ms/step - loss: 0.0476 - accuracy: 0.9866 - val_loss: 0.0555 - val_accuracy: 0.9854\n",
      "Epoch 97/100\n",
      "1312/1312 [==============================] - 7s 5ms/step - loss: 0.0239 - accuracy: 0.9925 - val_loss: 0.0424 - val_accuracy: 0.9877\n",
      "Epoch 98/100\n",
      "1312/1312 [==============================] - 7s 5ms/step - loss: 0.0318 - accuracy: 0.9908 - val_loss: 0.0125 - val_accuracy: 0.9960\n",
      "Epoch 99/100\n",
      "1312/1312 [==============================] - 7s 5ms/step - loss: 0.0180 - accuracy: 0.9943 - val_loss: 0.0248 - val_accuracy: 0.9911\n",
      "Epoch 100/100\n",
      "1312/1312 [==============================] - 7s 5ms/step - loss: 0.0247 - accuracy: 0.9918 - val_loss: 0.0346 - val_accuracy: 0.9885\n",
      "621.0540337562561\n"
     ]
    }
   ],
   "source": [
    "from keras.models import Sequential, Model\n",
    "from keras.layers import Dense, Flatten, TimeDistributed, LSTM, Input, Dropout\n",
    "from keras.layers.convolutional import Conv1D, MaxPooling1D\n",
    "\n",
    "cnn_large = Sequential()\n",
    "cnn_large.add(Conv1D(filters=512, kernel_size=2, activation='relu', input_shape=(x_train[0].shape)))\n",
    "cnn_large.add(MaxPooling1D(pool_size=2))\n",
    "cnn_large.add(Dense(256))\n",
    "cnn_large.add(Conv1D(filters=128, kernel_size=2, activation='relu', input_shape=(x_train[0].shape)))\n",
    "cnn_large.add(MaxPooling1D(pool_size=2))\n",
    "cnn_large.add(Flatten())\n",
    "cnn_large.add(Dense(len(classes),activation=\"softmax\"))\n",
    "cnn_large.summary()\n",
    "cnn_large.compile(optimizer = \"adam\", loss=\"categorical_crossentropy\", metrics = ['accuracy'])\n",
    "\n",
    "import time\n",
    "\n",
    "start = time.time()\n",
    "\n",
    "cnn_large_hist = cnn_large.fit(x_train, y_train, epochs = 100, validation_data = (x_test, y_test), verbose = 1, batch_size=32)\n",
    "\n",
    "end = time.time()\n",
    "print(end - start)"
   ]
  },
  {
   "cell_type": "code",
   "execution_count": 64,
   "id": "signed-processor",
   "metadata": {},
   "outputs": [
    {
     "data": {
      "image/png": "[encoded data removed]",
      "text/plain": [
       "<Figure size 432x288 with 1 Axes>"
      ]
     },
     "metadata": {
      "needs_background": "light"
     },
     "output_type": "display_data"
    },
    {
     "name": "stdout",
     "output_type": "stream",
     "text": [
      "0.9929216504096985\n",
      "0.9884840846061707\n"
     ]
    }
   ],
   "source": [
    "import matplotlib.pyplot as plt\n",
    "\n",
    "plt.plot(cnn_large_hist.history['accuracy'])\n",
    "plt.plot(cnn_large_hist.history['val_accuracy'])\n",
    "plt.title('model accuracy')\n",
    "plt.ylabel('accuracy')\n",
    "plt.xlabel('epoch')\n",
    "plt.legend(['train', 'test'], loc='upper left')\n",
    "plt.show()\n",
    "print(cnn_large_hist.history['accuracy'][-1])\n",
    "print(cnn_large_hist.history['val_accuracy'][-1])"
   ]
  },
  {
   "cell_type": "code",
   "execution_count": 65,
   "id": "generic-lounge",
   "metadata": {},
   "outputs": [
    {
     "data": {
      "image/png": "[encoded data removed]",
      "text/plain": [
       "<Figure size 432x288 with 1 Axes>"
      ]
     },
     "metadata": {
      "needs_background": "light"
     },
     "output_type": "display_data"
    },
    {
     "name": "stdout",
     "output_type": "stream",
     "text": [
      "0.02316465973854065\n",
      "0.034649621695280075\n"
     ]
    }
   ],
   "source": [
    "import matplotlib.pyplot as plt\n",
    "\n",
    "plt.plot(cnn_large_hist.history['loss'])\n",
    "plt.plot(cnn_large_hist.history['val_loss'])\n",
    "plt.title('model loss')\n",
    "plt.ylabel('loss')\n",
    "plt.xlabel('epoch')\n",
    "plt.legend(['train', 'test'], loc='upper left')\n",
    "plt.show()\n",
    "print(cnn_large_hist.history['loss'][-1])\n",
    "print(cnn_large_hist.history['val_loss'][-1])"
   ]
  },
  {
   "source": [
    "Train the model for the shallow LSTM architecture"
   ],
   "cell_type": "markdown",
   "metadata": {}
  },
  {
   "cell_type": "code",
   "execution_count": 66,
   "id": "reasonable-mystery",
   "metadata": {},
   "outputs": [
    {
     "name": "stdout",
     "output_type": "stream",
     "text": [
      "Model: \"sequential_6\"\n",
      "_________________________________________________________________\n",
      "Layer (type)                 Output Shape              Param #   \n",
      "=================================================================\n",
      "lstm (LSTM)                  (None, 32)                11392     \n",
      "_________________________________________________________________\n",
      "dense_9 (Dense)              (None, 3)                 99        \n",
      "=================================================================\n",
      "Total params: 11,491\n",
      "Trainable params: 11,491\n",
      "Non-trainable params: 0\n",
      "_________________________________________________________________\n",
      "Epoch 1/50\n",
      "1312/1312 [==============================] - 9s 5ms/step - loss: 0.7401 - accuracy: 0.6422 - val_loss: 0.5685 - val_accuracy: 0.7525\n",
      "Epoch 2/50\n",
      "1312/1312 [==============================] - 6s 5ms/step - loss: 0.4759 - accuracy: 0.8010 - val_loss: 0.3474 - val_accuracy: 0.8671\n",
      "Epoch 3/50\n",
      "1312/1312 [==============================] - 6s 4ms/step - loss: 0.3493 - accuracy: 0.8639 - val_loss: 0.2959 - val_accuracy: 0.8800\n",
      "Epoch 4/50\n",
      "1312/1312 [==============================] - 6s 4ms/step - loss: 0.2888 - accuracy: 0.8884 - val_loss: 0.2140 - val_accuracy: 0.9223\n",
      "Epoch 5/50\n",
      "1312/1312 [==============================] - 6s 4ms/step - loss: 0.2435 - accuracy: 0.9060 - val_loss: 0.1720 - val_accuracy: 0.9339\n",
      "Epoch 6/50\n",
      "1312/1312 [==============================] - 6s 4ms/step - loss: 0.2163 - accuracy: 0.9163 - val_loss: 0.2214 - val_accuracy: 0.9139\n",
      "Epoch 7/50\n",
      "1312/1312 [==============================] - 6s 4ms/step - loss: 0.1944 - accuracy: 0.9258 - val_loss: 0.1840 - val_accuracy: 0.9291\n",
      "Epoch 8/50\n",
      "1312/1312 [==============================] - 5s 4ms/step - loss: 0.1708 - accuracy: 0.9362 - val_loss: 0.1450 - val_accuracy: 0.9431\n",
      "Epoch 9/50\n",
      "1312/1312 [==============================] - 6s 4ms/step - loss: 0.1476 - accuracy: 0.9448 - val_loss: 0.1523 - val_accuracy: 0.9416\n",
      "Epoch 10/50\n",
      "1312/1312 [==============================] - 6s 4ms/step - loss: 0.1329 - accuracy: 0.9505 - val_loss: 0.1559 - val_accuracy: 0.9401\n",
      "Epoch 11/50\n",
      "1312/1312 [==============================] - 5s 4ms/step - loss: 0.1272 - accuracy: 0.9515 - val_loss: 0.1277 - val_accuracy: 0.9527\n",
      "Epoch 12/50\n",
      "1312/1312 [==============================] - 6s 4ms/step - loss: 0.1125 - accuracy: 0.9592 - val_loss: 0.0880 - val_accuracy: 0.9702\n",
      "Epoch 13/50\n",
      "1312/1312 [==============================] - 6s 5ms/step - loss: 0.1067 - accuracy: 0.9615 - val_loss: 0.0957 - val_accuracy: 0.9651\n",
      "Epoch 14/50\n",
      "1312/1312 [==============================] - 6s 4ms/step - loss: 0.0931 - accuracy: 0.9667 - val_loss: 0.0887 - val_accuracy: 0.9679\n",
      "Epoch 15/50\n",
      "1312/1312 [==============================] - 6s 4ms/step - loss: 0.0882 - accuracy: 0.9683 - val_loss: 0.1507 - val_accuracy: 0.9391\n",
      "Epoch 16/50\n",
      "1312/1312 [==============================] - 6s 4ms/step - loss: 0.0865 - accuracy: 0.9693 - val_loss: 0.0872 - val_accuracy: 0.9677\n",
      "Epoch 17/50\n",
      "1312/1312 [==============================] - 6s 4ms/step - loss: 0.0883 - accuracy: 0.9683 - val_loss: 0.0835 - val_accuracy: 0.9683\n",
      "Epoch 18/50\n",
      "1312/1312 [==============================] - 6s 4ms/step - loss: 0.0843 - accuracy: 0.9699 - val_loss: 0.0537 - val_accuracy: 0.9811\n",
      "Epoch 19/50\n",
      "1312/1312 [==============================] - 6s 4ms/step - loss: 0.0830 - accuracy: 0.9692 - val_loss: 0.0599 - val_accuracy: 0.9793\n",
      "Epoch 20/50\n",
      "1312/1312 [==============================] - 7s 5ms/step - loss: 0.0793 - accuracy: 0.9712 - val_loss: 0.0554 - val_accuracy: 0.9802\n",
      "Epoch 21/50\n",
      "1312/1312 [==============================] - 6s 4ms/step - loss: 0.0686 - accuracy: 0.9743 - val_loss: 0.1163 - val_accuracy: 0.9549\n",
      "Epoch 22/50\n",
      "1312/1312 [==============================] - 6s 4ms/step - loss: 0.0626 - accuracy: 0.9772 - val_loss: 0.0493 - val_accuracy: 0.9829\n",
      "Epoch 23/50\n",
      "1312/1312 [==============================] - 6s 4ms/step - loss: 0.0631 - accuracy: 0.9767 - val_loss: 0.0531 - val_accuracy: 0.9797\n",
      "Epoch 24/50\n",
      "1312/1312 [==============================] - 6s 4ms/step - loss: 0.0556 - accuracy: 0.9801 - val_loss: 0.0684 - val_accuracy: 0.9774\n",
      "Epoch 25/50\n",
      "1312/1312 [==============================] - 6s 4ms/step - loss: 0.0563 - accuracy: 0.9793 - val_loss: 0.0806 - val_accuracy: 0.9681\n",
      "Epoch 26/50\n",
      "1312/1312 [==============================] - 6s 5ms/step - loss: 0.0630 - accuracy: 0.9770 - val_loss: 0.0594 - val_accuracy: 0.9785\n",
      "Epoch 27/50\n",
      "1312/1312 [==============================] - 6s 5ms/step - loss: 0.0506 - accuracy: 0.9824 - val_loss: 0.0744 - val_accuracy: 0.9720\n",
      "Epoch 28/50\n",
      "1312/1312 [==============================] - 6s 4ms/step - loss: 0.0524 - accuracy: 0.9801 - val_loss: 0.0536 - val_accuracy: 0.9791\n",
      "Epoch 29/50\n",
      "1312/1312 [==============================] - 5s 4ms/step - loss: 0.0483 - accuracy: 0.9827 - val_loss: 0.0524 - val_accuracy: 0.9820\n",
      "Epoch 30/50\n",
      "1312/1312 [==============================] - 6s 4ms/step - loss: 0.0480 - accuracy: 0.9838 - val_loss: 0.0421 - val_accuracy: 0.9842\n",
      "Epoch 31/50\n",
      "1312/1312 [==============================] - 6s 4ms/step - loss: 0.0507 - accuracy: 0.9827 - val_loss: 0.0292 - val_accuracy: 0.9908\n",
      "Epoch 32/50\n",
      "1312/1312 [==============================] - 5s 4ms/step - loss: 0.0464 - accuracy: 0.9829 - val_loss: 0.0356 - val_accuracy: 0.9873\n",
      "Epoch 33/50\n",
      "1312/1312 [==============================] - 6s 4ms/step - loss: 0.0390 - accuracy: 0.9860 - val_loss: 0.0895 - val_accuracy: 0.9673\n",
      "Epoch 34/50\n",
      "1312/1312 [==============================] - 6s 4ms/step - loss: 0.0433 - accuracy: 0.9840 - val_loss: 0.0478 - val_accuracy: 0.9821\n",
      "Epoch 35/50\n",
      "1312/1312 [==============================] - 6s 4ms/step - loss: 0.0461 - accuracy: 0.9829 - val_loss: 0.0318 - val_accuracy: 0.9896\n",
      "Epoch 36/50\n",
      "1312/1312 [==============================] - 6s 4ms/step - loss: 0.0503 - accuracy: 0.9822 - val_loss: 0.0335 - val_accuracy: 0.9896\n",
      "Epoch 37/50\n",
      "1312/1312 [==============================] - 6s 4ms/step - loss: 0.0376 - accuracy: 0.9871 - val_loss: 0.0342 - val_accuracy: 0.9882\n",
      "Epoch 38/50\n",
      "1312/1312 [==============================] - 6s 4ms/step - loss: 0.0329 - accuracy: 0.9883 - val_loss: 0.0297 - val_accuracy: 0.9906\n",
      "Epoch 39/50\n",
      "1312/1312 [==============================] - 6s 4ms/step - loss: 0.0367 - accuracy: 0.9862 - val_loss: 0.0632 - val_accuracy: 0.9763\n",
      "Epoch 40/50\n",
      "1312/1312 [==============================] - 6s 4ms/step - loss: 0.0400 - accuracy: 0.9858 - val_loss: 0.0424 - val_accuracy: 0.9850\n",
      "Epoch 41/50\n",
      "1312/1312 [==============================] - 5s 4ms/step - loss: 0.0500 - accuracy: 0.9831 - val_loss: 0.0197 - val_accuracy: 0.9936\n",
      "Epoch 42/50\n",
      "1312/1312 [==============================] - 6s 4ms/step - loss: 0.0380 - accuracy: 0.9880 - val_loss: 0.0267 - val_accuracy: 0.9908\n",
      "Epoch 43/50\n",
      "1312/1312 [==============================] - 6s 5ms/step - loss: 0.0480 - accuracy: 0.9842 - val_loss: 0.0447 - val_accuracy: 0.9837\n",
      "Epoch 44/50\n",
      "1312/1312 [==============================] - 6s 4ms/step - loss: 0.0347 - accuracy: 0.9879 - val_loss: 0.0453 - val_accuracy: 0.9845\n",
      "Epoch 45/50\n",
      "1312/1312 [==============================] - 7s 5ms/step - loss: 0.0364 - accuracy: 0.9872 - val_loss: 0.0411 - val_accuracy: 0.9855\n",
      "Epoch 46/50\n",
      "1312/1312 [==============================] - 7s 5ms/step - loss: 0.0330 - accuracy: 0.9889 - val_loss: 0.0251 - val_accuracy: 0.9910\n",
      "Epoch 47/50\n",
      "1312/1312 [==============================] - 8s 6ms/step - loss: 0.0280 - accuracy: 0.9905 - val_loss: 0.0412 - val_accuracy: 0.9844\n",
      "Epoch 48/50\n",
      "1312/1312 [==============================] - 8s 6ms/step - loss: 0.0340 - accuracy: 0.9877 - val_loss: 0.0352 - val_accuracy: 0.9869\n",
      "Epoch 49/50\n",
      "1312/1312 [==============================] - 7s 6ms/step - loss: 0.0320 - accuracy: 0.9887 - val_loss: 0.0758 - val_accuracy: 0.9757\n",
      "Epoch 50/50\n",
      "1312/1312 [==============================] - 8s 6ms/step - loss: 0.0262 - accuracy: 0.9912 - val_loss: 0.0223 - val_accuracy: 0.9929\n",
      "300.2969117164612\n"
     ]
    }
   ],
   "source": [
    "from keras.models import Sequential, Model\n",
    "from keras.layers import Dense, Flatten, TimeDistributed, LSTM, Input, Dropout\n",
    "from keras import optimizers\n",
    "\n",
    "\n",
    "lstm_short = Sequential()\n",
    "\n",
    "lstm_short.add(LSTM(units = 32, activation = \"tanh\", input_shape = (x_train[0].shape)))\n",
    "\n",
    "lstm_short.add(Dense(len(classes), activation = 'softmax'))\n",
    "\n",
    "lstm_short.summary()\n",
    "\n",
    "optimizer = optimizers.Adam(clipvalue=1)\n",
    "\n",
    "lstm_short.compile(optimizer = optimizer, loss=\"categorical_crossentropy\", metrics = ['accuracy'])\n",
    "\n",
    "import time\n",
    "\n",
    "start = time.time()\n",
    "\n",
    "lstm_short_hist = lstm_short.fit(x_train, y_train, epochs = 50, validation_data = (x_test, y_test), verbose = 1, batch_size=32)\n",
    "\n",
    "end = time.time()\n",
    "print(end - start)"
   ]
  },
  {
   "source": [
    "Train the model for the deeper LSTM architecture"
   ],
   "cell_type": "markdown",
   "metadata": {}
  },
  {
   "cell_type": "code",
   "execution_count": 67,
   "id": "latin-romania",
   "metadata": {},
   "outputs": [
    {
     "name": "stdout",
     "output_type": "stream",
     "text": [
      "Model: \"sequential_7\"\n",
      "_________________________________________________________________\n",
      "Layer (type)                 Output Shape              Param #   \n",
      "=================================================================\n",
      "lstm_1 (LSTM)                (None, 10, 64)            30976     \n",
      "_________________________________________________________________\n",
      "dropout (Dropout)            (None, 10, 64)            0         \n",
      "_________________________________________________________________\n",
      "lstm_2 (LSTM)                (None, 32)                12416     \n",
      "_________________________________________________________________\n",
      "dense_10 (Dense)             (None, 3)                 99        \n",
      "=================================================================\n",
      "Total params: 43,491\n",
      "Trainable params: 43,491\n",
      "Non-trainable params: 0\n",
      "_________________________________________________________________\n",
      "Epoch 1/50\n",
      "1312/1312 [==============================] - 21s 13ms/step - loss: 0.7023 - accuracy: 0.6689 - val_loss: 0.4429 - val_accuracy: 0.8198\n",
      "Epoch 2/50\n",
      "1312/1312 [==============================] - 16s 12ms/step - loss: 0.4013 - accuracy: 0.8353 - val_loss: 0.2659 - val_accuracy: 0.8904\n",
      "Epoch 3/50\n",
      "1312/1312 [==============================] - 14s 11ms/step - loss: 0.2645 - accuracy: 0.8969 - val_loss: 0.2092 - val_accuracy: 0.9198\n",
      "Epoch 4/50\n",
      "1312/1312 [==============================] - 14s 10ms/step - loss: 0.2010 - accuracy: 0.9209 - val_loss: 0.1962 - val_accuracy: 0.9231\n",
      "Epoch 5/50\n",
      "1312/1312 [==============================] - 17s 13ms/step - loss: 0.1723 - accuracy: 0.9330 - val_loss: 0.1237 - val_accuracy: 0.9502\n",
      "Epoch 6/50\n",
      "1312/1312 [==============================] - 15s 11ms/step - loss: 0.1367 - accuracy: 0.9479 - val_loss: 0.1263 - val_accuracy: 0.9524\n",
      "Epoch 7/50\n",
      "1312/1312 [==============================] - 15s 11ms/step - loss: 0.1276 - accuracy: 0.9514 - val_loss: 0.0954 - val_accuracy: 0.9638\n",
      "Epoch 8/50\n",
      "1312/1312 [==============================] - 14s 11ms/step - loss: 0.1049 - accuracy: 0.9616 - val_loss: 0.0815 - val_accuracy: 0.9690\n",
      "Epoch 9/50\n",
      "1312/1312 [==============================] - 14s 11ms/step - loss: 0.0944 - accuracy: 0.9659 - val_loss: 0.1838 - val_accuracy: 0.9240\n",
      "Epoch 10/50\n",
      "1312/1312 [==============================] - 14s 11ms/step - loss: 0.1029 - accuracy: 0.9619 - val_loss: 0.0841 - val_accuracy: 0.9660\n",
      "Epoch 11/50\n",
      "1312/1312 [==============================] - 14s 10ms/step - loss: 0.0803 - accuracy: 0.9703 - val_loss: 0.1032 - val_accuracy: 0.9587\n",
      "Epoch 12/50\n",
      "1312/1312 [==============================] - 14s 11ms/step - loss: 0.0803 - accuracy: 0.9702 - val_loss: 0.0618 - val_accuracy: 0.9792\n",
      "Epoch 13/50\n",
      "1312/1312 [==============================] - 13s 10ms/step - loss: 0.0642 - accuracy: 0.9772 - val_loss: 0.0800 - val_accuracy: 0.9663\n",
      "Epoch 14/50\n",
      "1312/1312 [==============================] - 14s 10ms/step - loss: 0.0733 - accuracy: 0.9730 - val_loss: 0.0829 - val_accuracy: 0.9710\n",
      "Epoch 15/50\n",
      "1312/1312 [==============================] - 14s 11ms/step - loss: 0.0601 - accuracy: 0.9777 - val_loss: 0.0458 - val_accuracy: 0.9841\n",
      "Epoch 16/50\n",
      "1312/1312 [==============================] - 14s 11ms/step - loss: 0.0615 - accuracy: 0.9777 - val_loss: 0.0566 - val_accuracy: 0.9810\n",
      "Epoch 17/50\n",
      "1312/1312 [==============================] - 14s 11ms/step - loss: 0.0527 - accuracy: 0.9814 - val_loss: 0.0311 - val_accuracy: 0.9896\n",
      "Epoch 18/50\n",
      "1312/1312 [==============================] - 14s 10ms/step - loss: 0.0576 - accuracy: 0.9804 - val_loss: 0.0562 - val_accuracy: 0.9772\n",
      "Epoch 19/50\n",
      "1312/1312 [==============================] - 14s 10ms/step - loss: 0.0509 - accuracy: 0.9816 - val_loss: 0.0254 - val_accuracy: 0.9918\n",
      "Epoch 20/50\n",
      "1312/1312 [==============================] - 14s 11ms/step - loss: 0.0421 - accuracy: 0.9843 - val_loss: 0.1664 - val_accuracy: 0.9365\n",
      "Epoch 21/50\n",
      "1312/1312 [==============================] - 14s 11ms/step - loss: 0.0457 - accuracy: 0.9844 - val_loss: 0.0320 - val_accuracy: 0.9885\n",
      "Epoch 22/50\n",
      "1312/1312 [==============================] - 14s 10ms/step - loss: 0.0397 - accuracy: 0.9865 - val_loss: 0.0280 - val_accuracy: 0.9908\n",
      "Epoch 23/50\n",
      "1312/1312 [==============================] - 15s 11ms/step - loss: 0.0397 - accuracy: 0.9866 - val_loss: 0.0310 - val_accuracy: 0.9899\n",
      "Epoch 24/50\n",
      "1312/1312 [==============================] - 16s 12ms/step - loss: 0.0470 - accuracy: 0.9830 - val_loss: 0.0356 - val_accuracy: 0.9871\n",
      "Epoch 25/50\n",
      "1312/1312 [==============================] - 14s 11ms/step - loss: 0.0469 - accuracy: 0.9840 - val_loss: 0.0260 - val_accuracy: 0.9900\n",
      "Epoch 26/50\n",
      "1312/1312 [==============================] - 14s 11ms/step - loss: 0.0334 - accuracy: 0.9888 - val_loss: 0.0329 - val_accuracy: 0.9893\n",
      "Epoch 27/50\n",
      "1312/1312 [==============================] - 14s 11ms/step - loss: 0.0384 - accuracy: 0.9862 - val_loss: 0.0855 - val_accuracy: 0.9724\n",
      "Epoch 28/50\n",
      "1312/1312 [==============================] - 15s 11ms/step - loss: 0.0374 - accuracy: 0.9863 - val_loss: 0.0194 - val_accuracy: 0.9936\n",
      "Epoch 29/50\n",
      "1312/1312 [==============================] - 14s 11ms/step - loss: 0.0304 - accuracy: 0.9896 - val_loss: 0.0242 - val_accuracy: 0.9926\n",
      "Epoch 30/50\n",
      "1312/1312 [==============================] - 14s 11ms/step - loss: 0.0265 - accuracy: 0.9905 - val_loss: 0.0165 - val_accuracy: 0.9945\n",
      "Epoch 31/50\n",
      "1312/1312 [==============================] - 14s 11ms/step - loss: 0.0323 - accuracy: 0.9888 - val_loss: 0.0495 - val_accuracy: 0.9813\n",
      "Epoch 32/50\n",
      "1312/1312 [==============================] - 14s 11ms/step - loss: 0.0375 - accuracy: 0.9873 - val_loss: 0.0308 - val_accuracy: 0.9888\n",
      "Epoch 33/50\n",
      "1312/1312 [==============================] - 14s 11ms/step - loss: 0.0317 - accuracy: 0.9889 - val_loss: 0.0139 - val_accuracy: 0.9956\n",
      "Epoch 34/50\n",
      "1312/1312 [==============================] - 14s 11ms/step - loss: 0.0275 - accuracy: 0.9904 - val_loss: 0.0625 - val_accuracy: 0.9772\n",
      "Epoch 35/50\n",
      "1312/1312 [==============================] - 15s 11ms/step - loss: 0.0339 - accuracy: 0.9881 - val_loss: 0.0117 - val_accuracy: 0.9965\n",
      "Epoch 36/50\n",
      "1312/1312 [==============================] - 14s 11ms/step - loss: 0.0246 - accuracy: 0.9910 - val_loss: 0.0140 - val_accuracy: 0.9950\n",
      "Epoch 37/50\n",
      "1312/1312 [==============================] - 14s 11ms/step - loss: 0.0263 - accuracy: 0.9908 - val_loss: 0.0491 - val_accuracy: 0.9798\n",
      "Epoch 38/50\n",
      "1312/1312 [==============================] - 16s 12ms/step - loss: 0.0273 - accuracy: 0.9911 - val_loss: 0.0255 - val_accuracy: 0.9904\n",
      "Epoch 39/50\n",
      "1312/1312 [==============================] - 14s 11ms/step - loss: 0.0167 - accuracy: 0.9946 - val_loss: 0.0141 - val_accuracy: 0.9960\n",
      "Epoch 40/50\n",
      "1312/1312 [==============================] - 14s 11ms/step - loss: 0.0216 - accuracy: 0.9927 - val_loss: 0.0241 - val_accuracy: 0.9912\n",
      "Epoch 41/50\n",
      "1312/1312 [==============================] - 15s 11ms/step - loss: 0.0326 - accuracy: 0.9877 - val_loss: 0.0551 - val_accuracy: 0.9814\n",
      "Epoch 42/50\n",
      "1312/1312 [==============================] - 14s 10ms/step - loss: 0.0203 - accuracy: 0.9927 - val_loss: 0.0166 - val_accuracy: 0.9935\n",
      "Epoch 43/50\n",
      "1312/1312 [==============================] - 14s 11ms/step - loss: 0.0166 - accuracy: 0.9947 - val_loss: 0.0136 - val_accuracy: 0.9955\n",
      "Epoch 44/50\n",
      "1312/1312 [==============================] - 16s 12ms/step - loss: 0.0219 - accuracy: 0.9929 - val_loss: 0.0246 - val_accuracy: 0.9905\n",
      "Epoch 45/50\n",
      "1312/1312 [==============================] - 16s 12ms/step - loss: 0.0292 - accuracy: 0.9899 - val_loss: 0.0066 - val_accuracy: 0.9985\n",
      "Epoch 46/50\n",
      "1312/1312 [==============================] - 14s 11ms/step - loss: 0.0224 - accuracy: 0.9924 - val_loss: 0.0233 - val_accuracy: 0.9910\n",
      "Epoch 47/50\n",
      "1312/1312 [==============================] - 14s 11ms/step - loss: 0.0264 - accuracy: 0.9905 - val_loss: 0.0170 - val_accuracy: 0.9941\n",
      "Epoch 48/50\n",
      "1312/1312 [==============================] - 14s 11ms/step - loss: 0.0281 - accuracy: 0.9912 - val_loss: 0.0068 - val_accuracy: 0.9975\n",
      "Epoch 49/50\n",
      "1312/1312 [==============================] - 15s 12ms/step - loss: 0.0165 - accuracy: 0.9947 - val_loss: 0.0139 - val_accuracy: 0.9948\n",
      "Epoch 50/50\n",
      "1312/1312 [==============================] - 15s 11ms/step - loss: 0.0131 - accuracy: 0.9958 - val_loss: 0.0105 - val_accuracy: 0.9967\n"
     ]
    },
    {
     "name": "stdout",
     "output_type": "stream",
     "text": [
      "725.7952916622162\n"
     ]
    }
   ],
   "source": [
    "from keras.models import Sequential, Model\n",
    "from keras.layers import Dense, Flatten, TimeDistributed, LSTM, Input, Dropout\n",
    "\n",
    "lstm_long = Sequential()\n",
    "\n",
    "lstm_long.add(LSTM(units = 64, activation = \"tanh\", return_sequences = True, input_shape = (x_train[0].shape)))\n",
    "\n",
    "lstm_long.add(Dropout(0.1))\n",
    "\n",
    "lstm_long.add(LSTM(units= 32, activation = \"tanh\"))\n",
    "\n",
    "lstm_long.add(Dense(len(classes), activation = 'softmax'))\n",
    "\n",
    "lstm_long.summary()\n",
    "\n",
    "lstm_long.compile(optimizer = \"adam\", loss=\"categorical_crossentropy\", metrics = ['accuracy'])\n",
    "\n",
    "import time\n",
    "\n",
    "start = time.time()\n",
    "\n",
    "lstm_long_hist = lstm_long.fit(x_train, y_train, epochs = 50, validation_data = (x_test, y_test), verbose = 1, batch_size=32)\n",
    "\n",
    "end = time.time()\n",
    "print(end - start)"
   ]
  },
  {
   "source": [
    "Train the model for the CNN + LSTM architecture"
   ],
   "cell_type": "markdown",
   "metadata": {}
  },
  {
   "cell_type": "code",
   "execution_count": 68,
   "id": "federal-notice",
   "metadata": {},
   "outputs": [
    {
     "name": "stdout",
     "output_type": "stream",
     "text": [
      "Model: \"model\"\n",
      "_________________________________________________________________\n",
      "Layer (type)                 Output Shape              Param #   \n",
      "=================================================================\n",
      "input_1 (InputLayer)         [(None, 10, 56)]          0         \n",
      "_________________________________________________________________\n",
      "conv1d_9 (Conv1D)            (None, 3, 32)             14368     \n",
      "_________________________________________________________________\n",
      "max_pooling1d_9 (MaxPooling1 (None, 1, 32)             0         \n",
      "_________________________________________________________________\n",
      "lstm_3 (LSTM)                (None, 32)                8320      \n",
      "_________________________________________________________________\n",
      "dense_11 (Dense)             (None, 3)                 99        \n",
      "=================================================================\n",
      "Total params: 22,787\n",
      "Trainable params: 22,787\n",
      "Non-trainable params: 0\n",
      "_________________________________________________________________\n",
      "Epoch 1/100\n",
      "1312/1312 [==============================] - 8s 4ms/step - loss: 0.8087 - accuracy: 0.6040 - val_loss: 0.6148 - val_accuracy: 0.7245\n",
      "Epoch 2/100\n",
      "1312/1312 [==============================] - 3s 3ms/step - loss: 0.5845 - accuracy: 0.7373 - val_loss: 0.5298 - val_accuracy: 0.7703\n",
      "Epoch 3/100\n",
      "1312/1312 [==============================] - 4s 3ms/step - loss: 0.5159 - accuracy: 0.7757 - val_loss: 0.4661 - val_accuracy: 0.8004\n",
      "Epoch 4/100\n",
      "1312/1312 [==============================] - 4s 3ms/step - loss: 0.4504 - accuracy: 0.8122 - val_loss: 0.4339 - val_accuracy: 0.8207\n",
      "Epoch 5/100\n",
      "1312/1312 [==============================] - 4s 3ms/step - loss: 0.4124 - accuracy: 0.8305 - val_loss: 0.3997 - val_accuracy: 0.8342\n",
      "Epoch 6/100\n",
      "1312/1312 [==============================] - 4s 3ms/step - loss: 0.3751 - accuracy: 0.8514 - val_loss: 0.3318 - val_accuracy: 0.8736\n",
      "Epoch 7/100\n",
      "1312/1312 [==============================] - 4s 3ms/step - loss: 0.3236 - accuracy: 0.8781 - val_loss: 0.3253 - val_accuracy: 0.8705\n",
      "Epoch 8/100\n",
      "1312/1312 [==============================] - 4s 3ms/step - loss: 0.3090 - accuracy: 0.8820 - val_loss: 0.2620 - val_accuracy: 0.9008\n",
      "Epoch 9/100\n",
      "1312/1312 [==============================] - 4s 3ms/step - loss: 0.2733 - accuracy: 0.8970 - val_loss: 0.2841 - val_accuracy: 0.8855\n",
      "Epoch 10/100\n",
      "1312/1312 [==============================] - 4s 3ms/step - loss: 0.2537 - accuracy: 0.9038 - val_loss: 0.2211 - val_accuracy: 0.9180\n",
      "Epoch 11/100\n",
      "1312/1312 [==============================] - 4s 3ms/step - loss: 0.2270 - accuracy: 0.9139 - val_loss: 0.2201 - val_accuracy: 0.9158\n",
      "Epoch 12/100\n",
      "1312/1312 [==============================] - 4s 3ms/step - loss: 0.2185 - accuracy: 0.9159 - val_loss: 0.1873 - val_accuracy: 0.9289\n",
      "Epoch 13/100\n",
      "1312/1312 [==============================] - 4s 3ms/step - loss: 0.2008 - accuracy: 0.9240 - val_loss: 0.2149 - val_accuracy: 0.9146\n",
      "Epoch 14/100\n",
      "1312/1312 [==============================] - 4s 3ms/step - loss: 0.1961 - accuracy: 0.9236 - val_loss: 0.2147 - val_accuracy: 0.9154\n",
      "Epoch 15/100\n",
      "1312/1312 [==============================] - 4s 3ms/step - loss: 0.1757 - accuracy: 0.9324 - val_loss: 0.1642 - val_accuracy: 0.9363\n",
      "Epoch 16/100\n",
      "1312/1312 [==============================] - 4s 3ms/step - loss: 0.1725 - accuracy: 0.9340 - val_loss: 0.1784 - val_accuracy: 0.9278\n",
      "Epoch 17/100\n",
      "1312/1312 [==============================] - 4s 3ms/step - loss: 0.1585 - accuracy: 0.9402 - val_loss: 0.1483 - val_accuracy: 0.9439\n",
      "Epoch 18/100\n",
      "1312/1312 [==============================] - 4s 3ms/step - loss: 0.1551 - accuracy: 0.9419 - val_loss: 0.1459 - val_accuracy: 0.9439\n",
      "Epoch 19/100\n",
      "1312/1312 [==============================] - 4s 3ms/step - loss: 0.1548 - accuracy: 0.9421 - val_loss: 0.1233 - val_accuracy: 0.9535\n",
      "Epoch 20/100\n",
      "1312/1312 [==============================] - 4s 3ms/step - loss: 0.1485 - accuracy: 0.9437 - val_loss: 0.1457 - val_accuracy: 0.9429\n",
      "Epoch 21/100\n",
      "1312/1312 [==============================] - 4s 3ms/step - loss: 0.1383 - accuracy: 0.9489 - val_loss: 0.1302 - val_accuracy: 0.9482\n",
      "Epoch 22/100\n",
      "1312/1312 [==============================] - 4s 3ms/step - loss: 0.1301 - accuracy: 0.9502 - val_loss: 0.1141 - val_accuracy: 0.9561\n",
      "Epoch 23/100\n",
      "1312/1312 [==============================] - 4s 3ms/step - loss: 0.1271 - accuracy: 0.9528 - val_loss: 0.1758 - val_accuracy: 0.9329\n",
      "Epoch 24/100\n",
      "1312/1312 [==============================] - 4s 3ms/step - loss: 0.1277 - accuracy: 0.9515 - val_loss: 0.1123 - val_accuracy: 0.9564\n",
      "Epoch 25/100\n",
      "1312/1312 [==============================] - 3s 3ms/step - loss: 0.1121 - accuracy: 0.9573 - val_loss: 0.1059 - val_accuracy: 0.9586\n",
      "Epoch 26/100\n",
      "1312/1312 [==============================] - 4s 3ms/step - loss: 0.1183 - accuracy: 0.9559 - val_loss: 0.1150 - val_accuracy: 0.9550\n",
      "Epoch 27/100\n",
      "1312/1312 [==============================] - 4s 3ms/step - loss: 0.1052 - accuracy: 0.9611 - val_loss: 0.1091 - val_accuracy: 0.9583\n",
      "Epoch 28/100\n",
      "1312/1312 [==============================] - 4s 3ms/step - loss: 0.1022 - accuracy: 0.9605 - val_loss: 0.1298 - val_accuracy: 0.9498\n",
      "Epoch 29/100\n",
      "1312/1312 [==============================] - 4s 3ms/step - loss: 0.1004 - accuracy: 0.9635 - val_loss: 0.0988 - val_accuracy: 0.9640\n",
      "Epoch 30/100\n",
      "1312/1312 [==============================] - 4s 3ms/step - loss: 0.0946 - accuracy: 0.9655 - val_loss: 0.0976 - val_accuracy: 0.9647\n",
      "Epoch 31/100\n",
      "1312/1312 [==============================] - 4s 3ms/step - loss: 0.0881 - accuracy: 0.9688 - val_loss: 0.0897 - val_accuracy: 0.9686\n",
      "Epoch 32/100\n",
      "1312/1312 [==============================] - 4s 3ms/step - loss: 0.0907 - accuracy: 0.9667 - val_loss: 0.0853 - val_accuracy: 0.9710\n",
      "Epoch 33/100\n",
      "1312/1312 [==============================] - 4s 3ms/step - loss: 0.0865 - accuracy: 0.9697 - val_loss: 0.0771 - val_accuracy: 0.9729\n",
      "Epoch 34/100\n",
      "1312/1312 [==============================] - 4s 3ms/step - loss: 0.0936 - accuracy: 0.9663 - val_loss: 0.0910 - val_accuracy: 0.9651\n",
      "Epoch 35/100\n",
      "1312/1312 [==============================] - 4s 3ms/step - loss: 0.0838 - accuracy: 0.9697 - val_loss: 0.0651 - val_accuracy: 0.9795\n",
      "Epoch 36/100\n",
      "1312/1312 [==============================] - 4s 3ms/step - loss: 0.0778 - accuracy: 0.9723 - val_loss: 0.0820 - val_accuracy: 0.9699\n",
      "Epoch 37/100\n",
      "1312/1312 [==============================] - 4s 3ms/step - loss: 0.0753 - accuracy: 0.9737 - val_loss: 0.0678 - val_accuracy: 0.9753\n",
      "Epoch 38/100\n",
      "1312/1312 [==============================] - 4s 3ms/step - loss: 0.0760 - accuracy: 0.9716 - val_loss: 0.0807 - val_accuracy: 0.9733\n",
      "Epoch 39/100\n",
      "1312/1312 [==============================] - 4s 3ms/step - loss: 0.0733 - accuracy: 0.9730 - val_loss: 0.0953 - val_accuracy: 0.9644\n",
      "Epoch 40/100\n",
      "1312/1312 [==============================] - 4s 3ms/step - loss: 0.0737 - accuracy: 0.9724 - val_loss: 0.0797 - val_accuracy: 0.9727\n",
      "Epoch 41/100\n",
      "1312/1312 [==============================] - 4s 3ms/step - loss: 0.0724 - accuracy: 0.9735 - val_loss: 0.0690 - val_accuracy: 0.9751\n",
      "Epoch 42/100\n",
      "1312/1312 [==============================] - 4s 3ms/step - loss: 0.0600 - accuracy: 0.9790 - val_loss: 0.0622 - val_accuracy: 0.9778\n",
      "Epoch 43/100\n",
      "1312/1312 [==============================] - 4s 3ms/step - loss: 0.0689 - accuracy: 0.9759 - val_loss: 0.0613 - val_accuracy: 0.9801\n",
      "Epoch 44/100\n",
      "1312/1312 [==============================] - 4s 3ms/step - loss: 0.0556 - accuracy: 0.9807 - val_loss: 0.0607 - val_accuracy: 0.9784\n",
      "Epoch 45/100\n",
      "1312/1312 [==============================] - 4s 3ms/step - loss: 0.0561 - accuracy: 0.9812 - val_loss: 0.0686 - val_accuracy: 0.9760\n",
      "Epoch 46/100\n",
      "1312/1312 [==============================] - 4s 3ms/step - loss: 0.0674 - accuracy: 0.9767 - val_loss: 0.0714 - val_accuracy: 0.9765\n",
      "Epoch 47/100\n",
      "1312/1312 [==============================] - 4s 3ms/step - loss: 0.0633 - accuracy: 0.9774 - val_loss: 0.0560 - val_accuracy: 0.9807\n",
      "Epoch 48/100\n",
      "1312/1312 [==============================] - 4s 3ms/step - loss: 0.0596 - accuracy: 0.9788 - val_loss: 0.0543 - val_accuracy: 0.9813\n",
      "Epoch 49/100\n",
      "1312/1312 [==============================] - 4s 3ms/step - loss: 0.0523 - accuracy: 0.9819 - val_loss: 0.0684 - val_accuracy: 0.9745\n",
      "Epoch 50/100\n"
     ]
    },
    {
     "name": "stdout",
     "output_type": "stream",
     "text": [
      "1312/1312 [==============================] - 4s 3ms/step - loss: 0.0560 - accuracy: 0.9798 - val_loss: 0.0462 - val_accuracy: 0.9839\n",
      "Epoch 51/100\n",
      "1312/1312 [==============================] - 4s 3ms/step - loss: 0.0556 - accuracy: 0.9806 - val_loss: 0.0475 - val_accuracy: 0.9836\n",
      "Epoch 52/100\n",
      "1312/1312 [==============================] - 4s 3ms/step - loss: 0.0519 - accuracy: 0.9821 - val_loss: 0.0779 - val_accuracy: 0.9717\n",
      "Epoch 53/100\n",
      "1312/1312 [==============================] - 4s 3ms/step - loss: 0.0556 - accuracy: 0.9796 - val_loss: 0.0743 - val_accuracy: 0.9733\n",
      "Epoch 54/100\n",
      "1312/1312 [==============================] - 4s 3ms/step - loss: 0.0545 - accuracy: 0.9817 - val_loss: 0.0397 - val_accuracy: 0.9871\n",
      "Epoch 55/100\n",
      "1312/1312 [==============================] - 4s 3ms/step - loss: 0.0493 - accuracy: 0.9822 - val_loss: 0.0596 - val_accuracy: 0.9799\n",
      "Epoch 56/100\n",
      "1312/1312 [==============================] - 4s 3ms/step - loss: 0.0539 - accuracy: 0.9809 - val_loss: 0.0525 - val_accuracy: 0.9806\n",
      "Epoch 57/100\n",
      "1312/1312 [==============================] - 4s 3ms/step - loss: 0.0460 - accuracy: 0.9833 - val_loss: 0.0460 - val_accuracy: 0.9840\n",
      "Epoch 58/100\n",
      "1312/1312 [==============================] - 4s 3ms/step - loss: 0.0540 - accuracy: 0.9809 - val_loss: 0.0477 - val_accuracy: 0.9842\n",
      "Epoch 59/100\n",
      "1312/1312 [==============================] - 4s 3ms/step - loss: 0.0510 - accuracy: 0.9814 - val_loss: 0.0658 - val_accuracy: 0.9761\n",
      "Epoch 60/100\n",
      "1312/1312 [==============================] - 4s 3ms/step - loss: 0.0491 - accuracy: 0.9823 - val_loss: 0.0443 - val_accuracy: 0.9849\n",
      "Epoch 61/100\n",
      "1312/1312 [==============================] - 4s 3ms/step - loss: 0.0472 - accuracy: 0.9829 - val_loss: 0.0403 - val_accuracy: 0.9866\n",
      "Epoch 62/100\n",
      "1312/1312 [==============================] - 4s 3ms/step - loss: 0.0548 - accuracy: 0.9810 - val_loss: 0.0742 - val_accuracy: 0.9739\n",
      "Epoch 63/100\n",
      "1312/1312 [==============================] - 4s 3ms/step - loss: 0.0489 - accuracy: 0.9814 - val_loss: 0.0467 - val_accuracy: 0.9848\n",
      "Epoch 64/100\n",
      "1312/1312 [==============================] - 4s 3ms/step - loss: 0.0464 - accuracy: 0.9834 - val_loss: 0.0528 - val_accuracy: 0.9817\n",
      "Epoch 65/100\n",
      "1312/1312 [==============================] - 4s 3ms/step - loss: 0.0438 - accuracy: 0.9850 - val_loss: 0.0527 - val_accuracy: 0.9808\n",
      "Epoch 66/100\n",
      "1312/1312 [==============================] - 4s 3ms/step - loss: 0.0427 - accuracy: 0.9844 - val_loss: 0.0489 - val_accuracy: 0.9831\n",
      "Epoch 67/100\n",
      "1312/1312 [==============================] - 4s 3ms/step - loss: 0.0385 - accuracy: 0.9870 - val_loss: 0.0458 - val_accuracy: 0.9830\n",
      "Epoch 68/100\n",
      "1312/1312 [==============================] - 4s 3ms/step - loss: 0.0388 - accuracy: 0.9871 - val_loss: 0.0363 - val_accuracy: 0.9871\n",
      "Epoch 69/100\n",
      "1312/1312 [==============================] - 4s 3ms/step - loss: 0.0403 - accuracy: 0.9864 - val_loss: 0.0444 - val_accuracy: 0.9846\n",
      "Epoch 70/100\n",
      "1312/1312 [==============================] - 4s 3ms/step - loss: 0.0424 - accuracy: 0.9859 - val_loss: 0.0521 - val_accuracy: 0.9798\n",
      "Epoch 71/100\n",
      "1312/1312 [==============================] - 4s 3ms/step - loss: 0.0389 - accuracy: 0.9866 - val_loss: 0.0899 - val_accuracy: 0.9654\n",
      "Epoch 72/100\n",
      "1312/1312 [==============================] - 4s 3ms/step - loss: 0.0527 - accuracy: 0.9807 - val_loss: 0.0382 - val_accuracy: 0.9876\n",
      "Epoch 73/100\n",
      "1312/1312 [==============================] - 4s 3ms/step - loss: 0.0405 - accuracy: 0.9854 - val_loss: 0.0597 - val_accuracy: 0.9776\n",
      "Epoch 74/100\n",
      "1312/1312 [==============================] - 4s 3ms/step - loss: 0.0441 - accuracy: 0.9849 - val_loss: 0.0558 - val_accuracy: 0.9804\n",
      "Epoch 75/100\n",
      "1312/1312 [==============================] - 4s 3ms/step - loss: 0.0445 - accuracy: 0.9840 - val_loss: 0.0453 - val_accuracy: 0.9848\n",
      "Epoch 76/100\n",
      "1312/1312 [==============================] - 4s 3ms/step - loss: 0.0409 - accuracy: 0.9861 - val_loss: 0.0484 - val_accuracy: 0.9828\n",
      "Epoch 77/100\n",
      "1312/1312 [==============================] - 4s 3ms/step - loss: 0.0426 - accuracy: 0.9847 - val_loss: 0.0557 - val_accuracy: 0.9790\n",
      "Epoch 78/100\n",
      "1312/1312 [==============================] - 4s 3ms/step - loss: 0.0462 - accuracy: 0.9834 - val_loss: 0.0522 - val_accuracy: 0.9808\n",
      "Epoch 79/100\n",
      "1312/1312 [==============================] - 4s 3ms/step - loss: 0.0393 - accuracy: 0.9859 - val_loss: 0.0330 - val_accuracy: 0.9886\n",
      "Epoch 80/100\n",
      "1312/1312 [==============================] - 4s 3ms/step - loss: 0.0357 - accuracy: 0.9872 - val_loss: 0.0362 - val_accuracy: 0.9876\n",
      "Epoch 81/100\n",
      "1312/1312 [==============================] - 4s 3ms/step - loss: 0.0332 - accuracy: 0.9893 - val_loss: 0.0367 - val_accuracy: 0.9872\n",
      "Epoch 82/100\n",
      "1312/1312 [==============================] - 4s 3ms/step - loss: 0.0340 - accuracy: 0.9874 - val_loss: 0.0326 - val_accuracy: 0.9881\n",
      "Epoch 83/100\n",
      "1312/1312 [==============================] - 4s 3ms/step - loss: 0.0402 - accuracy: 0.9862 - val_loss: 0.0263 - val_accuracy: 0.9910\n",
      "Epoch 84/100\n",
      "1312/1312 [==============================] - 4s 3ms/step - loss: 0.0332 - accuracy: 0.9889 - val_loss: 0.0394 - val_accuracy: 0.9855\n",
      "Epoch 85/100\n",
      "1312/1312 [==============================] - 4s 3ms/step - loss: 0.0388 - accuracy: 0.9872 - val_loss: 0.0381 - val_accuracy: 0.9858\n",
      "Epoch 86/100\n",
      "1312/1312 [==============================] - 4s 3ms/step - loss: 0.0331 - accuracy: 0.9881 - val_loss: 0.0461 - val_accuracy: 0.9834\n",
      "Epoch 87/100\n",
      "1312/1312 [==============================] - 4s 3ms/step - loss: 0.0350 - accuracy: 0.9874 - val_loss: 0.0432 - val_accuracy: 0.9850\n",
      "Epoch 88/100\n",
      "1312/1312 [==============================] - 4s 3ms/step - loss: 0.0372 - accuracy: 0.9867 - val_loss: 0.0468 - val_accuracy: 0.9844\n",
      "Epoch 89/100\n",
      "1312/1312 [==============================] - 4s 3ms/step - loss: 0.0337 - accuracy: 0.9884 - val_loss: 0.0284 - val_accuracy: 0.9910\n",
      "Epoch 90/100\n",
      "1312/1312 [==============================] - 4s 3ms/step - loss: 0.0358 - accuracy: 0.9876 - val_loss: 0.0514 - val_accuracy: 0.9803\n",
      "Epoch 91/100\n",
      "1312/1312 [==============================] - 4s 3ms/step - loss: 0.0318 - accuracy: 0.9893 - val_loss: 0.0304 - val_accuracy: 0.9902\n",
      "Epoch 92/100\n",
      "1312/1312 [==============================] - 4s 3ms/step - loss: 0.0365 - accuracy: 0.9878 - val_loss: 0.0367 - val_accuracy: 0.9865\n",
      "Epoch 93/100\n",
      "1312/1312 [==============================] - 4s 3ms/step - loss: 0.0286 - accuracy: 0.9896 - val_loss: 0.0655 - val_accuracy: 0.9768\n",
      "Epoch 94/100\n",
      "1312/1312 [==============================] - 4s 3ms/step - loss: 0.0345 - accuracy: 0.9876 - val_loss: 0.0546 - val_accuracy: 0.9804\n",
      "Epoch 95/100\n",
      "1312/1312 [==============================] - 4s 3ms/step - loss: 0.0366 - accuracy: 0.9870 - val_loss: 0.0705 - val_accuracy: 0.9724\n",
      "Epoch 96/100\n",
      "1312/1312 [==============================] - 4s 3ms/step - loss: 0.0331 - accuracy: 0.9893 - val_loss: 0.0346 - val_accuracy: 0.9873\n",
      "Epoch 97/100\n",
      "1312/1312 [==============================] - 4s 3ms/step - loss: 0.0366 - accuracy: 0.9868 - val_loss: 0.0491 - val_accuracy: 0.9833\n",
      "Epoch 98/100\n",
      "1312/1312 [==============================] - 4s 3ms/step - loss: 0.0278 - accuracy: 0.9898 - val_loss: 0.0249 - val_accuracy: 0.9918\n",
      "Epoch 99/100\n",
      "1312/1312 [==============================] - 4s 3ms/step - loss: 0.0381 - accuracy: 0.9868 - val_loss: 0.0525 - val_accuracy: 0.9811\n",
      "Epoch 100/100\n",
      "1312/1312 [==============================] - 4s 3ms/step - loss: 0.0314 - accuracy: 0.9880 - val_loss: 0.0551 - val_accuracy: 0.9803\n",
      "389.74862360954285\n"
     ]
    }
   ],
   "source": [
    "from keras.layers import Input, Dense, LSTM, MaxPooling1D, Conv1D, TimeDistributed\n",
    "from keras.models import Model\n",
    "\n",
    "input_layer = Input(shape=(x_train[0].shape))\n",
    "conv1 = Conv1D(filters=32,\n",
    "               kernel_size=8,\n",
    "               strides=1,\n",
    "               activation='relu')(input_layer)\n",
    "pool1 = MaxPooling1D(pool_size=2)(conv1)\n",
    "lstm1 = LSTM(32)(pool1)\n",
    "output_layer = Dense(len(classes), activation='softmax')(lstm1)\n",
    "cnn_lstm = Model(inputs=input_layer, outputs=output_layer)\n",
    "cnn_lstm.summary()\n",
    "\n",
    "cnn_lstm.compile(optimizer = \"adam\", loss=\"categorical_crossentropy\", metrics = ['accuracy'])\n",
    "\n",
    "import time\n",
    "\n",
    "start = time.time()\n",
    "\n",
    "cnn_lstm_hist = cnn_lstm.fit(x_train, y_train, epochs = 100, validation_data = (x_test, y_test), verbose = 1, batch_size=32)\n",
    "\n",
    "end = time.time()\n",
    "print(end - start)"
   ]
  },
  {
   "cell_type": "code",
   "execution_count": null,
   "metadata": {},
   "outputs": [],
   "source": [
    "The rest of the plots"
   ]
  },
  {
   "cell_type": "code",
   "execution_count": 69,
   "id": "promising-begin",
   "metadata": {},
   "outputs": [
    {
     "data": {
      "image/png": "[encoded data removed]",
      "text/plain": [
       "<Figure size 432x288 with 1 Axes>"
      ]
     },
     "metadata": {
      "needs_background": "light"
     },
     "output_type": "display_data"
    },
    {
     "name": "stdout",
     "output_type": "stream",
     "text": [
      "0.9884172677993774\n",
      "0.9803067445755005\n"
     ]
    }
   ],
   "source": [
    "import matplotlib.pyplot as plt\n",
    "\n",
    "plt.plot(cnn_lstm_hist.history['accuracy'])\n",
    "plt.plot(cnn_lstm_hist.history['val_accuracy'])\n",
    "plt.title('model accuracy')\n",
    "plt.ylabel('accuracy')\n",
    "plt.xlabel('epoch')\n",
    "plt.legend(['train', 'test'], loc='upper left')\n",
    "plt.show()\n",
    "print(cnn_lstm_hist.history['accuracy'][-1])\n",
    "print(cnn_lstm_hist.history['val_accuracy'][-1])"
   ]
  },
  {
   "cell_type": "code",
   "execution_count": 70,
   "id": "devoted-jewelry",
   "metadata": {},
   "outputs": [
    {
     "data": {
      "image/png": "[encoded data removed]",
      "text/plain": [
       "<Figure size 432x288 with 1 Axes>"
      ]
     },
     "metadata": {
      "needs_background": "light"
     },
     "output_type": "display_data"
    },
    {
     "name": "stdout",
     "output_type": "stream",
     "text": [
      "0.03219687566161156\n",
      "0.05509389936923981\n"
     ]
    }
   ],
   "source": [
    "import matplotlib.pyplot as plt\n",
    "\n",
    "plt.plot(cnn_lstm_hist.history['loss'])\n",
    "plt.plot(cnn_lstm_hist.history['val_loss'])\n",
    "plt.title('model accuracy')\n",
    "plt.ylabel('loss')\n",
    "plt.xlabel('epoch')\n",
    "plt.legend(['train', 'test'], loc='upper left')\n",
    "plt.show()\n",
    "print(cnn_lstm_hist.history['loss'][-1])\n",
    "print(cnn_lstm_hist.history['val_loss'][-1])"
   ]
  },
  {
   "cell_type": "code",
   "execution_count": 71,
   "id": "large-parish",
   "metadata": {},
   "outputs": [
    {
     "data": {
      "image/png": "[encoded data removed]",
      "text/plain": [
       "<Figure size 432x288 with 1 Axes>"
      ]
     },
     "metadata": {
      "needs_background": "light"
     },
     "output_type": "display_data"
    },
    {
     "name": "stdout",
     "output_type": "stream",
     "text": [
      "0.9955194592475891\n",
      "0.9967097043991089\n"
     ]
    }
   ],
   "source": [
    "import matplotlib.pyplot as plt\n",
    "\n",
    "plt.plot(lstm_long_hist.history['accuracy'])\n",
    "plt.plot(lstm_long_hist.history['val_accuracy'])\n",
    "plt.title('model accuracy')\n",
    "plt.ylabel('accuracy')\n",
    "plt.xlabel('epoch')\n",
    "plt.legend(['train', 'test'], loc='upper left')\n",
    "plt.show()\n",
    "print(lstm_long_hist.history['accuracy'][-1])\n",
    "print(lstm_long_hist.history['val_accuracy'][-1])"
   ]
  },
  {
   "cell_type": "code",
   "execution_count": 72,
   "id": "cooked-architecture",
   "metadata": {},
   "outputs": [
    {
     "data": {
      "image/png": "[encoded data removed]",
      "text/plain": [
       "<Figure size 432x288 with 1 Axes>"
      ]
     },
     "metadata": {
      "needs_background": "light"
     },
     "output_type": "display_data"
    },
    {
     "name": "stdout",
     "output_type": "stream",
     "text": [
      "0.014097422361373901\n",
      "0.010456753894686699\n"
     ]
    }
   ],
   "source": [
    "import matplotlib.pyplot as plt\n",
    "\n",
    "plt.plot(lstm_long_hist.history['loss'])\n",
    "plt.plot(lstm_long_hist.history['val_loss'])\n",
    "plt.title('model loss')\n",
    "plt.ylabel('loss')\n",
    "plt.xlabel('epoch')\n",
    "plt.legend(['train', 'test'], loc='upper left')\n",
    "plt.show()\n",
    "print(lstm_long_hist.history['loss'][-1])\n",
    "print(lstm_long_hist.history['val_loss'][-1])"
   ]
  },
  {
   "cell_type": "code",
   "execution_count": 73,
   "id": "criminal-blink",
   "metadata": {},
   "outputs": [
    {
     "data": {
      "image/png": "[encoded data removed]",
      "text/plain": [
       "<Figure size 432x288 with 1 Axes>"
      ]
     },
     "metadata": {
      "needs_background": "light"
     },
     "output_type": "display_data"
    },
    {
     "name": "stdout",
     "output_type": "stream",
     "text": [
      "0.9902523756027222\n",
      "0.9928871989250183\n"
     ]
    }
   ],
   "source": [
    "import matplotlib.pyplot as plt\n",
    "\n",
    "plt.plot(lstm_short_hist.history['accuracy'])\n",
    "plt.plot(lstm_short_hist.history['val_accuracy'])\n",
    "plt.title('model accuracy')\n",
    "plt.ylabel('accuracy')\n",
    "plt.xlabel('epoch')\n",
    "plt.legend(['train', 'test'], loc='upper left')\n",
    "plt.show()\n",
    "print(lstm_short_hist.history['accuracy'][-1])\n",
    "print(lstm_short_hist.history['val_accuracy'][-1])"
   ]
  },
  {
   "cell_type": "code",
   "execution_count": 74,
   "id": "alpine-digit",
   "metadata": {},
   "outputs": [
    {
     "data": {
      "image/png": "[encoded data removed]",
      "text/plain": [
       "<Figure size 432x288 with 1 Axes>"
      ]
     },
     "metadata": {
      "needs_background": "light"
     },
     "output_type": "display_data"
    },
    {
     "name": "stdout",
     "output_type": "stream",
     "text": [
      "0.028203431516885757\n",
      "0.022289982065558434\n"
     ]
    }
   ],
   "source": [
    "import matplotlib.pyplot as plt\n",
    "\n",
    "plt.plot(lstm_short_hist.history['loss'])\n",
    "plt.plot(lstm_short_hist.history['val_loss'])\n",
    "plt.title('model accuracy')\n",
    "plt.ylabel('loss')\n",
    "plt.xlabel('epoch')\n",
    "plt.legend(['train', 'test'], loc='upper left')\n",
    "plt.show()\n",
    "print(lstm_short_hist.history['loss'][-1])\n",
    "print(lstm_short_hist.history['val_loss'][-1])"
   ]
  },
  {
   "source": [
    "Save the models in h5 files"
   ],
   "cell_type": "markdown",
   "metadata": {}
  },
  {
   "cell_type": "code",
   "execution_count": 75,
   "id": "immune-alert",
   "metadata": {},
   "outputs": [],
   "source": [
    "cnn.save(\"models/squat/squat_cnn_short.h5\")"
   ]
  },
  {
   "cell_type": "code",
   "execution_count": 76,
   "id": "restricted-schema",
   "metadata": {},
   "outputs": [],
   "source": [
    "cnn_large.save(\"models/squat/squat_cnn_large.h5\")"
   ]
  },
  {
   "cell_type": "code",
   "execution_count": 77,
   "id": "competitive-hobby",
   "metadata": {},
   "outputs": [],
   "source": [
    "lstm_short.save(\"models/squat/squat_lstm_short.h5\")"
   ]
  },
  {
   "cell_type": "code",
   "execution_count": 78,
   "id": "present-scott",
   "metadata": {},
   "outputs": [],
   "source": [
    "lstm_long.save(\"models/squat/squat_lstm_long.h5\")"
   ]
  },
  {
   "cell_type": "code",
   "execution_count": 79,
   "id": "extended-prison",
   "metadata": {},
   "outputs": [],
   "source": [
    "cnn_lstm.save(\"models/squat/squat_cnn_lstm.h5\")"
   ]
  },
  {
   "source": [
    "Latency test"
   ],
   "cell_type": "markdown",
   "metadata": {}
  },
  {
   "cell_type": "code",
   "execution_count": 95,
   "id": "alert-armstrong",
   "metadata": {},
   "outputs": [
    {
     "name": "stdout",
     "output_type": "stream",
     "text": [
      "49.25279\n",
      "1623768786.9021745\n"
     ]
    }
   ],
   "source": [
    "samples = x_train[:100]\n",
    "\n",
    "import datetime\n",
    "\n",
    "new_samples=[]\n",
    "for s in samples:\n",
    "    new_samples.append(s.reshape(1,10,56))\n",
    "\n",
    "start_time = datetime.datetime.now()\n",
    "\n",
    "for sample in new_samples:\n",
    "    lstm_long.predict(sample)\n",
    "\n",
    "end_time = datetime.datetime.now()\n",
    "\n",
    "time_diff = (end_time - start_time)\n",
    "\n",
    "\n",
    "print(time_diff.total_seconds() * 1000 / 100)\n",
    "print(start)\n"
   ]
  }
 ],
 "metadata": {
  "kernelspec": {
   "display_name": "Python 3",
   "language": "python",
   "name": "python3"
  },
  "language_info": {
   "codemirror_mode": {
    "name": "ipython",
    "version": 3
   },
   "file_extension": ".py",
   "mimetype": "text/x-python",
   "name": "python",
   "nbconvert_exporter": "python",
   "pygments_lexer": "ipython3",
   "version": "3.8.8"
  }
 },
 "nbformat": 4,
 "nbformat_minor": 5
}