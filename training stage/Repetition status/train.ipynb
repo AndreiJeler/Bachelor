{
  "nbformat": 4,
  "nbformat_minor": 0,
  "metadata": {
    "colab": {
      "name": "cnn-lite.ipynb",
      "provenance": [],
      "collapsed_sections": []
    },
    "kernelspec": {
      "name": "python3",
      "display_name": "Python 3"
    },
    "language_info": {
      "name": "python"
    }
  },
  "cells": [
    {
      "cell_type": "code",
      "metadata": {
        "id": "rn4EhW8t31Bg"
      },
      "source": [
        "import tensorflow as tf\n",
        "import os\n",
        "print(tf.__version__)\n"
      ],
      "execution_count": null,
      "outputs": []
    },
    {
      "cell_type": "code",
      "metadata": {
        "id": "Rke8vPyt4ATN"
      },
      "source": [
        "os.environ[\"TF_CPP_MIN_LOG_LEVEL\"] = \"2\"\n",
        "\n",
        "physical_devices = tf.config.list_physical_devices(\"GPU\")\n",
        "print(physical_devices)\n",
        "tf.config.experimental.set_memory_growth(physical_devices[0], True)"
      ],
      "execution_count": null,
      "outputs": []
    },
    {
      "cell_type": "code",
      "metadata": {
        "colab": {
          "base_uri": "https://localhost:8080/",
          "height": 253
        },
        "id": "fs1YTjEP4R1G",
        "outputId": "b958c94e-5348-44a6-d2e1-68bd3542e9e8"
      },
      "source": [
        "import pandas as pd\n",
        "import csv\n",
        "import numpy as np\n",
        "\n",
        "#put the location of the dataset variable here\n",
        "dataset_path = \"shoulder.csv\"\n",
        "\n",
        "df = pd.read_csv(dataset_path)\n",
        "df.head()"
      ],
      "execution_count": null,
      "outputs": [
        {
          "output_type": "execute_result",
          "data": {
            "text/html": [
              "<div>\n",
              "<style scoped>\n",
              "    .dataframe tbody tr th:only-of-type {\n",
              "        vertical-align: middle;\n",
              "    }\n",
              "\n",
              "    .dataframe tbody tr th {\n",
              "        vertical-align: top;\n",
              "    }\n",
              "\n",
              "    .dataframe thead th {\n",
              "        text-align: right;\n",
              "    }\n",
              "</style>\n",
              "<table border=\"1\" class=\"dataframe\">\n",
              "  <thead>\n",
              "    <tr style=\"text-align: right;\">\n",
              "      <th></th>\n",
              "      <th>x1</th>\n",
              "      <th>y1</th>\n",
              "      <th>z1</th>\n",
              "      <th>v1</th>\n",
              "      <th>x2</th>\n",
              "      <th>y2</th>\n",
              "      <th>z2</th>\n",
              "      <th>v2</th>\n",
              "      <th>x3</th>\n",
              "      <th>y3</th>\n",
              "      <th>z3</th>\n",
              "      <th>v3</th>\n",
              "      <th>x4</th>\n",
              "      <th>y4</th>\n",
              "      <th>z4</th>\n",
              "      <th>v4</th>\n",
              "      <th>x5</th>\n",
              "      <th>y5</th>\n",
              "      <th>z5</th>\n",
              "      <th>v5</th>\n",
              "      <th>x6</th>\n",
              "      <th>y6</th>\n",
              "      <th>z6</th>\n",
              "      <th>v6</th>\n",
              "      <th>x7</th>\n",
              "      <th>y7</th>\n",
              "      <th>z7</th>\n",
              "      <th>v7</th>\n",
              "      <th>x8</th>\n",
              "      <th>y8</th>\n",
              "      <th>z8</th>\n",
              "      <th>v8</th>\n",
              "      <th>x9</th>\n",
              "      <th>y9</th>\n",
              "      <th>z9</th>\n",
              "      <th>v9</th>\n",
              "      <th>x10</th>\n",
              "      <th>y10</th>\n",
              "      <th>z10</th>\n",
              "      <th>v10</th>\n",
              "      <th>...</th>\n",
              "      <th>y16</th>\n",
              "      <th>z16</th>\n",
              "      <th>v16</th>\n",
              "      <th>x17</th>\n",
              "      <th>y17</th>\n",
              "      <th>z17</th>\n",
              "      <th>v17</th>\n",
              "      <th>x18</th>\n",
              "      <th>y18</th>\n",
              "      <th>z18</th>\n",
              "      <th>v18</th>\n",
              "      <th>x19</th>\n",
              "      <th>y19</th>\n",
              "      <th>z19</th>\n",
              "      <th>v19</th>\n",
              "      <th>x20</th>\n",
              "      <th>y20</th>\n",
              "      <th>z20</th>\n",
              "      <th>v20</th>\n",
              "      <th>x21</th>\n",
              "      <th>y21</th>\n",
              "      <th>z21</th>\n",
              "      <th>v21</th>\n",
              "      <th>x22</th>\n",
              "      <th>y22</th>\n",
              "      <th>z22</th>\n",
              "      <th>v22</th>\n",
              "      <th>x23</th>\n",
              "      <th>y23</th>\n",
              "      <th>z23</th>\n",
              "      <th>v23</th>\n",
              "      <th>x24</th>\n",
              "      <th>y24</th>\n",
              "      <th>z24</th>\n",
              "      <th>v24</th>\n",
              "      <th>x25</th>\n",
              "      <th>y25</th>\n",
              "      <th>z25</th>\n",
              "      <th>v25</th>\n",
              "      <th>class</th>\n",
              "    </tr>\n",
              "  </thead>\n",
              "  <tbody>\n",
              "    <tr>\n",
              "      <th>0</th>\n",
              "      <td>0.519697</td>\n",
              "      <td>0.415506</td>\n",
              "      <td>-0.355288</td>\n",
              "      <td>1</td>\n",
              "      <td>0.529913</td>\n",
              "      <td>0.396780</td>\n",
              "      <td>-0.317828</td>\n",
              "      <td>1</td>\n",
              "      <td>0.537086</td>\n",
              "      <td>0.397794</td>\n",
              "      <td>-0.317767</td>\n",
              "      <td>0.999997</td>\n",
              "      <td>0.544437</td>\n",
              "      <td>0.398923</td>\n",
              "      <td>-0.317917</td>\n",
              "      <td>1</td>\n",
              "      <td>0.509862</td>\n",
              "      <td>0.395109</td>\n",
              "      <td>-0.321362</td>\n",
              "      <td>1</td>\n",
              "      <td>0.501935</td>\n",
              "      <td>0.394031</td>\n",
              "      <td>-0.321128</td>\n",
              "      <td>0.999992</td>\n",
              "      <td>0.494120</td>\n",
              "      <td>0.393334</td>\n",
              "      <td>-0.321069</td>\n",
              "      <td>1</td>\n",
              "      <td>0.552215</td>\n",
              "      <td>0.415461</td>\n",
              "      <td>-0.133947</td>\n",
              "      <td>0.999999</td>\n",
              "      <td>0.482804</td>\n",
              "      <td>0.407931</td>\n",
              "      <td>-0.156052</td>\n",
              "      <td>0.999966</td>\n",
              "      <td>0.532829</td>\n",
              "      <td>0.439899</td>\n",
              "      <td>-0.291214</td>\n",
              "      <td>0.999942</td>\n",
              "      <td>...</td>\n",
              "      <td>0.148706</td>\n",
              "      <td>-0.282053</td>\n",
              "      <td>0.995685</td>\n",
              "      <td>0.418933</td>\n",
              "      <td>0.153112</td>\n",
              "      <td>-0.270870</td>\n",
              "      <td>0.959845</td>\n",
              "      <td>0.623067</td>\n",
              "      <td>0.100743</td>\n",
              "      <td>-0.334278</td>\n",
              "      <td>0.981533</td>\n",
              "      <td>0.424525</td>\n",
              "      <td>0.100885</td>\n",
              "      <td>-0.306251</td>\n",
              "      <td>0.879173</td>\n",
              "      <td>0.612209</td>\n",
              "      <td>0.095447</td>\n",
              "      <td>-0.281859</td>\n",
              "      <td>0.979252</td>\n",
              "      <td>0.430034</td>\n",
              "      <td>0.097563</td>\n",
              "      <td>-0.275800</td>\n",
              "      <td>0.872078</td>\n",
              "      <td>0.607806</td>\n",
              "      <td>0.112533</td>\n",
              "      <td>-0.276074</td>\n",
              "      <td>0.986422</td>\n",
              "      <td>0.433571</td>\n",
              "      <td>0.114563</td>\n",
              "      <td>-0.267013</td>\n",
              "      <td>0.909647</td>\n",
              "      <td>0.550860</td>\n",
              "      <td>0.827849</td>\n",
              "      <td>-0.005908</td>\n",
              "      <td>0.999817</td>\n",
              "      <td>0.448019</td>\n",
              "      <td>0.816971</td>\n",
              "      <td>0.006660</td>\n",
              "      <td>0.999722</td>\n",
              "      <td>end</td>\n",
              "    </tr>\n",
              "    <tr>\n",
              "      <th>1</th>\n",
              "      <td>0.437403</td>\n",
              "      <td>0.259138</td>\n",
              "      <td>-0.728308</td>\n",
              "      <td>1</td>\n",
              "      <td>0.452632</td>\n",
              "      <td>0.245258</td>\n",
              "      <td>-0.663253</td>\n",
              "      <td>1</td>\n",
              "      <td>0.462694</td>\n",
              "      <td>0.244962</td>\n",
              "      <td>-0.663222</td>\n",
              "      <td>1.000000</td>\n",
              "      <td>0.473092</td>\n",
              "      <td>0.244642</td>\n",
              "      <td>-0.663402</td>\n",
              "      <td>1</td>\n",
              "      <td>0.422581</td>\n",
              "      <td>0.246428</td>\n",
              "      <td>-0.659458</td>\n",
              "      <td>1</td>\n",
              "      <td>0.412687</td>\n",
              "      <td>0.246562</td>\n",
              "      <td>-0.659294</td>\n",
              "      <td>1.000000</td>\n",
              "      <td>0.403056</td>\n",
              "      <td>0.246910</td>\n",
              "      <td>-0.659738</td>\n",
              "      <td>1</td>\n",
              "      <td>0.490053</td>\n",
              "      <td>0.253044</td>\n",
              "      <td>-0.356985</td>\n",
              "      <td>1.000000</td>\n",
              "      <td>0.393402</td>\n",
              "      <td>0.255223</td>\n",
              "      <td>-0.338413</td>\n",
              "      <td>1.000000</td>\n",
              "      <td>0.458801</td>\n",
              "      <td>0.273752</td>\n",
              "      <td>-0.622040</td>\n",
              "      <td>0.999999</td>\n",
              "      <td>...</td>\n",
              "      <td>0.096900</td>\n",
              "      <td>-0.807397</td>\n",
              "      <td>0.995574</td>\n",
              "      <td>0.253866</td>\n",
              "      <td>0.090993</td>\n",
              "      <td>-0.621671</td>\n",
              "      <td>0.981752</td>\n",
              "      <td>0.633483</td>\n",
              "      <td>0.067215</td>\n",
              "      <td>-0.952833</td>\n",
              "      <td>0.937405</td>\n",
              "      <td>0.252770</td>\n",
              "      <td>0.065719</td>\n",
              "      <td>-0.728144</td>\n",
              "      <td>0.883036</td>\n",
              "      <td>0.614310</td>\n",
              "      <td>0.064899</td>\n",
              "      <td>-0.918524</td>\n",
              "      <td>0.941947</td>\n",
              "      <td>0.269736</td>\n",
              "      <td>0.056858</td>\n",
              "      <td>-0.740454</td>\n",
              "      <td>0.898919</td>\n",
              "      <td>0.607258</td>\n",
              "      <td>0.072496</td>\n",
              "      <td>-0.823520</td>\n",
              "      <td>0.950979</td>\n",
              "      <td>0.274612</td>\n",
              "      <td>0.063392</td>\n",
              "      <td>-0.648063</td>\n",
              "      <td>0.919991</td>\n",
              "      <td>0.511372</td>\n",
              "      <td>0.562735</td>\n",
              "      <td>-0.026783</td>\n",
              "      <td>0.999999</td>\n",
              "      <td>0.359318</td>\n",
              "      <td>0.566115</td>\n",
              "      <td>0.027946</td>\n",
              "      <td>1.000000</td>\n",
              "      <td>end</td>\n",
              "    </tr>\n",
              "    <tr>\n",
              "      <th>2</th>\n",
              "      <td>0.506284</td>\n",
              "      <td>0.317311</td>\n",
              "      <td>-0.045034</td>\n",
              "      <td>1</td>\n",
              "      <td>0.508218</td>\n",
              "      <td>0.297819</td>\n",
              "      <td>0.013589</td>\n",
              "      <td>1</td>\n",
              "      <td>0.518693</td>\n",
              "      <td>0.296165</td>\n",
              "      <td>0.013497</td>\n",
              "      <td>0.999997</td>\n",
              "      <td>0.529451</td>\n",
              "      <td>0.294475</td>\n",
              "      <td>0.013342</td>\n",
              "      <td>1</td>\n",
              "      <td>0.475378</td>\n",
              "      <td>0.302338</td>\n",
              "      <td>-0.011565</td>\n",
              "      <td>1</td>\n",
              "      <td>0.460971</td>\n",
              "      <td>0.303526</td>\n",
              "      <td>-0.011273</td>\n",
              "      <td>0.999996</td>\n",
              "      <td>0.446665</td>\n",
              "      <td>0.304978</td>\n",
              "      <td>-0.011780</td>\n",
              "      <td>1</td>\n",
              "      <td>0.529614</td>\n",
              "      <td>0.300471</td>\n",
              "      <td>0.304001</td>\n",
              "      <td>1.000000</td>\n",
              "      <td>0.416530</td>\n",
              "      <td>0.314903</td>\n",
              "      <td>0.194334</td>\n",
              "      <td>0.999996</td>\n",
              "      <td>0.525513</td>\n",
              "      <td>0.331115</td>\n",
              "      <td>0.060015</td>\n",
              "      <td>0.999952</td>\n",
              "      <td>...</td>\n",
              "      <td>0.199910</td>\n",
              "      <td>0.223212</td>\n",
              "      <td>0.824302</td>\n",
              "      <td>0.357957</td>\n",
              "      <td>0.224778</td>\n",
              "      <td>0.617947</td>\n",
              "      <td>0.279029</td>\n",
              "      <td>0.619165</td>\n",
              "      <td>0.174658</td>\n",
              "      <td>0.142574</td>\n",
              "      <td>0.754192</td>\n",
              "      <td>0.368682</td>\n",
              "      <td>0.199933</td>\n",
              "      <td>0.608003</td>\n",
              "      <td>0.172613</td>\n",
              "      <td>0.616220</td>\n",
              "      <td>0.172203</td>\n",
              "      <td>0.187479</td>\n",
              "      <td>0.755479</td>\n",
              "      <td>0.373830</td>\n",
              "      <td>0.200196</td>\n",
              "      <td>0.634980</td>\n",
              "      <td>0.174041</td>\n",
              "      <td>0.610520</td>\n",
              "      <td>0.183142</td>\n",
              "      <td>0.220249</td>\n",
              "      <td>0.778858</td>\n",
              "      <td>0.378367</td>\n",
              "      <td>0.210613</td>\n",
              "      <td>0.624798</td>\n",
              "      <td>0.238485</td>\n",
              "      <td>0.602495</td>\n",
              "      <td>0.578380</td>\n",
              "      <td>0.052430</td>\n",
              "      <td>0.999112</td>\n",
              "      <td>0.427411</td>\n",
              "      <td>0.593500</td>\n",
              "      <td>-0.051566</td>\n",
              "      <td>0.998891</td>\n",
              "      <td>end</td>\n",
              "    </tr>\n",
              "    <tr>\n",
              "      <th>3</th>\n",
              "      <td>0.494064</td>\n",
              "      <td>0.318308</td>\n",
              "      <td>-0.488567</td>\n",
              "      <td>1</td>\n",
              "      <td>0.500302</td>\n",
              "      <td>0.300549</td>\n",
              "      <td>-0.456702</td>\n",
              "      <td>1</td>\n",
              "      <td>0.504933</td>\n",
              "      <td>0.301045</td>\n",
              "      <td>-0.456555</td>\n",
              "      <td>1.000000</td>\n",
              "      <td>0.509688</td>\n",
              "      <td>0.301591</td>\n",
              "      <td>-0.456366</td>\n",
              "      <td>1</td>\n",
              "      <td>0.486810</td>\n",
              "      <td>0.300690</td>\n",
              "      <td>-0.460312</td>\n",
              "      <td>1</td>\n",
              "      <td>0.481523</td>\n",
              "      <td>0.300355</td>\n",
              "      <td>-0.460239</td>\n",
              "      <td>1.000000</td>\n",
              "      <td>0.476311</td>\n",
              "      <td>0.300322</td>\n",
              "      <td>-0.460508</td>\n",
              "      <td>1</td>\n",
              "      <td>0.513383</td>\n",
              "      <td>0.316897</td>\n",
              "      <td>-0.303659</td>\n",
              "      <td>1.000000</td>\n",
              "      <td>0.469176</td>\n",
              "      <td>0.315508</td>\n",
              "      <td>-0.322010</td>\n",
              "      <td>1.000000</td>\n",
              "      <td>0.502076</td>\n",
              "      <td>0.340796</td>\n",
              "      <td>-0.435179</td>\n",
              "      <td>0.999999</td>\n",
              "      <td>...</td>\n",
              "      <td>0.100423</td>\n",
              "      <td>-0.464420</td>\n",
              "      <td>0.999510</td>\n",
              "      <td>0.382918</td>\n",
              "      <td>0.112713</td>\n",
              "      <td>-0.389212</td>\n",
              "      <td>0.994341</td>\n",
              "      <td>0.589963</td>\n",
              "      <td>0.066485</td>\n",
              "      <td>-0.529051</td>\n",
              "      <td>0.993394</td>\n",
              "      <td>0.386109</td>\n",
              "      <td>0.076954</td>\n",
              "      <td>-0.432615</td>\n",
              "      <td>0.965512</td>\n",
              "      <td>0.582894</td>\n",
              "      <td>0.055826</td>\n",
              "      <td>-0.518384</td>\n",
              "      <td>0.993433</td>\n",
              "      <td>0.393369</td>\n",
              "      <td>0.066508</td>\n",
              "      <td>-0.428488</td>\n",
              "      <td>0.968630</td>\n",
              "      <td>0.579491</td>\n",
              "      <td>0.066629</td>\n",
              "      <td>-0.473443</td>\n",
              "      <td>0.997900</td>\n",
              "      <td>0.396240</td>\n",
              "      <td>0.076921</td>\n",
              "      <td>-0.394347</td>\n",
              "      <td>0.983217</td>\n",
              "      <td>0.519665</td>\n",
              "      <td>0.698687</td>\n",
              "      <td>0.002730</td>\n",
              "      <td>0.999993</td>\n",
              "      <td>0.454564</td>\n",
              "      <td>0.699848</td>\n",
              "      <td>-0.001852</td>\n",
              "      <td>0.999998</td>\n",
              "      <td>end</td>\n",
              "    </tr>\n",
              "    <tr>\n",
              "      <th>4</th>\n",
              "      <td>0.478596</td>\n",
              "      <td>0.221590</td>\n",
              "      <td>-0.206071</td>\n",
              "      <td>1</td>\n",
              "      <td>0.484544</td>\n",
              "      <td>0.202985</td>\n",
              "      <td>-0.184162</td>\n",
              "      <td>1</td>\n",
              "      <td>0.489047</td>\n",
              "      <td>0.202675</td>\n",
              "      <td>-0.184161</td>\n",
              "      <td>1.000000</td>\n",
              "      <td>0.493687</td>\n",
              "      <td>0.202418</td>\n",
              "      <td>-0.184182</td>\n",
              "      <td>1</td>\n",
              "      <td>0.472176</td>\n",
              "      <td>0.203964</td>\n",
              "      <td>-0.182076</td>\n",
              "      <td>1</td>\n",
              "      <td>0.467759</td>\n",
              "      <td>0.203924</td>\n",
              "      <td>-0.181989</td>\n",
              "      <td>1.000000</td>\n",
              "      <td>0.463353</td>\n",
              "      <td>0.204133</td>\n",
              "      <td>-0.182180</td>\n",
              "      <td>1</td>\n",
              "      <td>0.500172</td>\n",
              "      <td>0.212460</td>\n",
              "      <td>-0.078179</td>\n",
              "      <td>1.000000</td>\n",
              "      <td>0.458207</td>\n",
              "      <td>0.214364</td>\n",
              "      <td>-0.067886</td>\n",
              "      <td>1.000000</td>\n",
              "      <td>0.487332</td>\n",
              "      <td>0.240345</td>\n",
              "      <td>-0.168817</td>\n",
              "      <td>1.000000</td>\n",
              "      <td>...</td>\n",
              "      <td>0.086136</td>\n",
              "      <td>-0.496338</td>\n",
              "      <td>0.968980</td>\n",
              "      <td>0.417170</td>\n",
              "      <td>0.071631</td>\n",
              "      <td>-0.526740</td>\n",
              "      <td>0.961553</td>\n",
              "      <td>0.561018</td>\n",
              "      <td>0.049051</td>\n",
              "      <td>-0.555411</td>\n",
              "      <td>0.855256</td>\n",
              "      <td>0.417730</td>\n",
              "      <td>0.043054</td>\n",
              "      <td>-0.590309</td>\n",
              "      <td>0.871189</td>\n",
              "      <td>0.558187</td>\n",
              "      <td>0.041973</td>\n",
              "      <td>-0.547241</td>\n",
              "      <td>0.879443</td>\n",
              "      <td>0.420755</td>\n",
              "      <td>0.036127</td>\n",
              "      <td>-0.582203</td>\n",
              "      <td>0.886441</td>\n",
              "      <td>0.553868</td>\n",
              "      <td>0.055200</td>\n",
              "      <td>-0.504587</td>\n",
              "      <td>0.897253</td>\n",
              "      <td>0.424066</td>\n",
              "      <td>0.046955</td>\n",
              "      <td>-0.535834</td>\n",
              "      <td>0.917349</td>\n",
              "      <td>0.509724</td>\n",
              "      <td>0.608818</td>\n",
              "      <td>-0.004847</td>\n",
              "      <td>0.999997</td>\n",
              "      <td>0.441660</td>\n",
              "      <td>0.607802</td>\n",
              "      <td>0.005408</td>\n",
              "      <td>0.999999</td>\n",
              "      <td>end</td>\n",
              "    </tr>\n",
              "  </tbody>\n",
              "</table>\n",
              "<p>5 rows × 101 columns</p>\n",
              "</div>"
            ],
            "text/plain": [
              "         x1        y1        z1  v1  ...       y25       z25       v25  class\n",
              "0  0.519697  0.415506 -0.355288   1  ...  0.816971  0.006660  0.999722    end\n",
              "1  0.437403  0.259138 -0.728308   1  ...  0.566115  0.027946  1.000000    end\n",
              "2  0.506284  0.317311 -0.045034   1  ...  0.593500 -0.051566  0.998891    end\n",
              "3  0.494064  0.318308 -0.488567   1  ...  0.699848 -0.001852  0.999998    end\n",
              "4  0.478596  0.221590 -0.206071   1  ...  0.607802  0.005408  0.999999    end\n",
              "\n",
              "[5 rows x 101 columns]"
            ]
          },
          "metadata": {
            "tags": []
          },
          "execution_count": 78
        }
      ]
    },
    {
      "cell_type": "code",
      "metadata": {
        "colab": {
          "base_uri": "https://localhost:8080/"
        },
        "id": "lQBZ6Shr4UQG",
        "outputId": "6d3810f3-b0c4-4d19-92d2-cf39ef63ea1a"
      },
      "source": [
        "y = np.array(df[\"class\"])\n",
        "x = np.array(df.drop(\"class\", axis = \"columns\"))\n",
        "print(x)\n",
        "print(y)"
      ],
      "execution_count": null,
      "outputs": [
        {
          "output_type": "stream",
          "text": [
            "[[ 0.51969749  0.41550559 -0.35528815 ...  0.81697059  0.00666015\n",
            "   0.99972242]\n",
            " [ 0.4374032   0.25913808 -0.72830796 ...  0.56611514  0.02794625\n",
            "   0.99999952]\n",
            " [ 0.50628442  0.31731117 -0.04503418 ...  0.59349978 -0.05156643\n",
            "   0.99889058]\n",
            " ...\n",
            " [ 0.49001759  0.45506248 -0.16440715 ...  0.90016347  0.02168277\n",
            "   0.99645126]\n",
            " [ 0.48973221  0.45618114 -0.18152569 ...  0.89958763  0.02246016\n",
            "   0.99710339]\n",
            " [ 0.49005279  0.45648554 -0.1841495  ...  0.90020752  0.02228422\n",
            "   0.99729758]]\n",
            "['end' 'end' 'end' ... 'other' 'other' 'other']\n"
          ],
          "name": "stdout"
        }
      ]
    },
    {
      "cell_type": "code",
      "metadata": {
        "colab": {
          "base_uri": "https://localhost:8080/"
        },
        "id": "Osc2UD5x4Wtp",
        "outputId": "c1132427-c973-4e41-d90c-e7b244753c6a"
      },
      "source": [
        "import collections\n",
        "collections.Counter(y)"
      ],
      "execution_count": null,
      "outputs": [
        {
          "output_type": "execute_result",
          "data": {
            "text/plain": [
              "Counter({'end': 729, 'other': 940, 'start': 1240})"
            ]
          },
          "metadata": {
            "tags": []
          },
          "execution_count": 80
        }
      ]
    },
    {
      "cell_type": "code",
      "metadata": {
        "colab": {
          "base_uri": "https://localhost:8080/"
        },
        "id": "hyg_dA3I4dux",
        "outputId": "9f6b9c0b-a891-4b2d-a025-2073023fbcc5"
      },
      "source": [
        "from sklearn.preprocessing import LabelEncoder,StandardScaler\n",
        "\n",
        "encoder = LabelEncoder()\n",
        "y = encoder.fit_transform(y)\n",
        "y"
      ],
      "execution_count": null,
      "outputs": [
        {
          "output_type": "execute_result",
          "data": {
            "text/plain": [
              "array([0, 0, 0, ..., 1, 1, 1])"
            ]
          },
          "metadata": {
            "tags": []
          },
          "execution_count": 81
        }
      ]
    },
    {
      "cell_type": "code",
      "metadata": {
        "colab": {
          "base_uri": "https://localhost:8080/"
        },
        "id": "1FBsU3bG4nE-",
        "outputId": "9020b710-61bc-46a4-a2bb-bd33523c2476"
      },
      "source": [
        "print(x.shape)\n",
        "print(x[0].shape)\n",
        "print(x)"
      ],
      "execution_count": null,
      "outputs": [
        {
          "output_type": "stream",
          "text": [
            "(2909, 100)\n",
            "(100,)\n",
            "[[ 0.51969749  0.41550559 -0.35528815 ...  0.81697059  0.00666015\n",
            "   0.99972242]\n",
            " [ 0.4374032   0.25913808 -0.72830796 ...  0.56611514  0.02794625\n",
            "   0.99999952]\n",
            " [ 0.50628442  0.31731117 -0.04503418 ...  0.59349978 -0.05156643\n",
            "   0.99889058]\n",
            " ...\n",
            " [ 0.49001759  0.45506248 -0.16440715 ...  0.90016347  0.02168277\n",
            "   0.99645126]\n",
            " [ 0.48973221  0.45618114 -0.18152569 ...  0.89958763  0.02246016\n",
            "   0.99710339]\n",
            " [ 0.49005279  0.45648554 -0.1841495  ...  0.90020752  0.02228422\n",
            "   0.99729758]]\n"
          ],
          "name": "stdout"
        }
      ]
    },
    {
      "cell_type": "code",
      "metadata": {
        "colab": {
          "base_uri": "https://localhost:8080/"
        },
        "id": "2PHl3sSK4pbe",
        "outputId": "1b4bd27a-6bca-4c86-f453-7ee0dd9ab488"
      },
      "source": [
        "encoder.classes_"
      ],
      "execution_count": null,
      "outputs": [
        {
          "output_type": "execute_result",
          "data": {
            "text/plain": [
              "array(['end', 'other', 'start'], dtype=object)"
            ]
          },
          "metadata": {
            "tags": []
          },
          "execution_count": 83
        }
      ]
    },
    {
      "cell_type": "code",
      "metadata": {
        "id": "hs1-JRwD4s_Z"
      },
      "source": [
        "from sklearn.model_selection import train_test_split\n",
        "\n",
        "x_train, x_test, y_train, y_test = train_test_split(x, y, test_size=0.25)"
      ],
      "execution_count": null,
      "outputs": []
    },
    {
      "cell_type": "code",
      "metadata": {
        "colab": {
          "base_uri": "https://localhost:8080/"
        },
        "id": "qm8m50af4vPz",
        "outputId": "090725a7-316f-44fe-eed9-3103844ee064"
      },
      "source": [
        "print(x_train.shape)\n",
        "print(x_train[0].shape)"
      ],
      "execution_count": null,
      "outputs": [
        {
          "output_type": "stream",
          "text": [
            "(3530, 100)\n",
            "(100,)\n"
          ],
          "name": "stdout"
        }
      ]
    },
    {
      "cell_type": "code",
      "metadata": {
        "colab": {
          "base_uri": "https://localhost:8080/"
        },
        "id": "cDlIJt3W5gat",
        "outputId": "f25769b7-572e-4cf4-bab9-7613f0b862a9"
      },
      "source": [
        "from tensorflow.keras import Sequential\n",
        "from tensorflow.keras.layers import Dense, Dropout\n",
        "\n",
        "# Change model architecture here\n",
        "model = Sequential()\n",
        "model.add(Dense(32, input_dim = x_train[0].shape[0], activation = 'relu'))\n",
        "model.add(Dropout(0.1))\n",
        "model.add(Dense(16, activation = 'relu'))\n",
        "model.add(Dropout(0.1))\n",
        "model.add(Dense(8, activation = 'relu'))\n",
        "model.add(Dense(len(encoder.classes_), activation='softmax'))\n",
        "\n",
        "model.summary()\n",
        "\n",
        "model.compile(loss='sparse_categorical_crossentropy',\n",
        "              optimizer='adam',\n",
        "              metrics=['accuracy'])\n",
        "\n",
        "#Can change the number of epochs here\n",
        "history = model.fit(x_train, y_train, epochs = 500, validation_data=(x_test,y_test), verbose=0)"
      ],
      "execution_count": null,
      "outputs": [
        {
          "output_type": "stream",
          "text": [
            "Model: \"sequential_14\"\n",
            "_________________________________________________________________\n",
            "Layer (type)                 Output Shape              Param #   \n",
            "=================================================================\n",
            "dense_52 (Dense)             (None, 32)                4256      \n",
            "_________________________________________________________________\n",
            "dropout_26 (Dropout)         (None, 32)                0         \n",
            "_________________________________________________________________\n",
            "dense_53 (Dense)             (None, 16)                528       \n",
            "_________________________________________________________________\n",
            "dropout_27 (Dropout)         (None, 16)                0         \n",
            "_________________________________________________________________\n",
            "dense_54 (Dense)             (None, 8)                 136       \n",
            "_________________________________________________________________\n",
            "dense_55 (Dense)             (None, 3)                 27        \n",
            "=================================================================\n",
            "Total params: 4,947\n",
            "Trainable params: 4,947\n",
            "Non-trainable params: 0\n",
            "_________________________________________________________________\n"
          ],
          "name": "stdout"
        }
      ]
    },
    {
      "cell_type": "code",
      "metadata": {
        "colab": {
          "base_uri": "https://localhost:8080/",
          "height": 329
        },
        "id": "9FBgNiJ_5xqr",
        "outputId": "8dce5269-e678-48c6-82bc-c5145d80e622"
      },
      "source": [
        "import matplotlib.pyplot as plt\n",
        "\n",
        "plt.plot(history.history['accuracy'])\n",
        "plt.plot(history.history['val_accuracy'])\n",
        "plt.title('model accuracy')\n",
        "plt.ylabel('accuracy')\n",
        "plt.xlabel('epoch')\n",
        "plt.legend(['train', 'test'], loc='upper left')\n",
        "plt.show()\n",
        "print(history.history['accuracy'][-1])\n",
        "print(history.history['val_accuracy'][-1])"
      ],
      "execution_count": null,
      "outputs": [
        {
          "output_type": "display_data",
          "data": {
            "image/png": "[encoded data removed]",
            "text/plain": [
              "<Figure size 432x288 with 1 Axes>"
            ]
          },
          "metadata": {
            "tags": [],
            "needs_background": "light"
          }
        },
        {
          "output_type": "stream",
          "text": [
            "0.9889850616455078\n",
            "0.9846698045730591\n"
          ],
          "name": "stdout"
        }
      ]
    },
    {
      "cell_type": "code",
      "metadata": {
        "colab": {
          "base_uri": "https://localhost:8080/",
          "height": 329
        },
        "id": "EohpvZGq5yzF",
        "outputId": "89665d98-e229-44a9-d307-76556c4ef28f"
      },
      "source": [
        "plt.plot(history.history['loss'])\n",
        "plt.plot(history.history['val_loss'])\n",
        "plt.title('model loss')\n",
        "plt.ylabel('loss')\n",
        "plt.xlabel('epoch')\n",
        "plt.legend(['train', 'test'], loc='upper left')\n",
        "plt.show()\n",
        "print(history.history['loss'][-1])\n",
        "print(history.history['val_loss'][-1])"
      ],
      "execution_count": null,
      "outputs": [
        {
          "output_type": "display_data",
          "data": {
            "image/png": "[encoded data removed]",
            "text/plain": [
              "<Figure size 432x288 with 1 Axes>"
            ]
          },
          "metadata": {
            "tags": [],
            "needs_background": "light"
          }
        },
        {
          "output_type": "stream",
          "text": [
            "0.029549166560173035\n",
            "0.0600198432803154\n"
          ],
          "name": "stdout"
        }
      ]
    },
    {
      "cell_type": "code",
      "metadata": {
        "colab": {
          "base_uri": "https://localhost:8080/"
        },
        "id": "G4CshIumGu6z",
        "outputId": "bd13e0e7-90b3-4ec3-fa31-57d27ada8f69"
      },
      "source": [
        "from tensorflow.keras import Sequential\n",
        "from tensorflow.keras.layers import Dense, Dropout\n",
        "\n",
        "larger_model = Sequential()\n",
        "larger_model.add(Dense(128, input_dim = x_train[0].shape[0], activation = 'relu'))\n",
        "larger_model.add(Dropout(0.1))\n",
        "larger_model.add(Dense(64, activation = 'relu'))\n",
        "larger_model.add(Dropout(0.1))\n",
        "larger_model.add(Dense(32, activation = 'relu'))\n",
        "larger_model.add(Dense(len(encoder.classes_), activation='softmax'))\n",
        "\n",
        "larger_model.summary()\n",
        "from tensorflow.keras.utils import plot_model\n",
        "larger_model.compile(loss='sparse_categorical_crossentropy',\n",
        "              optimizer='adam',\n",
        "              metrics=['accuracy'])\n",
        "\n",
        "history_larger = larger_model.fit(x_train, y_train, epochs = 500, validation_data=(x_test,y_test), verbose=0)"
      ],
      "execution_count": null,
      "outputs": [
        {
          "output_type": "stream",
          "text": [
            "Model: \"sequential_18\"\n",
            "_________________________________________________________________\n",
            "Layer (type)                 Output Shape              Param #   \n",
            "=================================================================\n",
            "dense_68 (Dense)             (None, 128)               17024     \n",
            "_________________________________________________________________\n",
            "dropout_34 (Dropout)         (None, 128)               0         \n",
            "_________________________________________________________________\n",
            "dense_69 (Dense)             (None, 64)                8256      \n",
            "_________________________________________________________________\n",
            "dropout_35 (Dropout)         (None, 64)                0         \n",
            "_________________________________________________________________\n",
            "dense_70 (Dense)             (None, 32)                2080      \n",
            "_________________________________________________________________\n",
            "dense_71 (Dense)             (None, 3)                 99        \n",
            "=================================================================\n",
            "Total params: 27,459\n",
            "Trainable params: 27,459\n",
            "Non-trainable params: 0\n",
            "_________________________________________________________________\n"
          ],
          "name": "stdout"
        }
      ]
    },
    {
      "cell_type": "code",
      "metadata": {
        "colab": {
          "base_uri": "https://localhost:8080/",
          "height": 329
        },
        "id": "OH3heZvE7m9N",
        "outputId": "9cebf4a1-5c85-492b-a7b2-ee78899e55d7"
      },
      "source": [
        "import matplotlib.pyplot as plt\n",
        "\n",
        "plt.plot(history_larger.history['accuracy'])\n",
        "plt.plot(history_larger.history['val_accuracy'])\n",
        "plt.title('model accuracy')\n",
        "plt.ylabel('accuracy')\n",
        "plt.xlabel('epoch')\n",
        "plt.legend(['train', 'test'], loc='upper left')\n",
        "plt.show()\n",
        "print(history_larger.history['accuracy'][-1])\n",
        "print(history_larger.history['val_accuracy'][-1])"
      ],
      "execution_count": null,
      "outputs": [
        {
          "output_type": "display_data",
          "data": {
            "image/png": "[encoded data removed]",
            "text/plain": [
              "<Figure size 432x288 with 1 Axes>"
            ]
          },
          "metadata": {
            "tags": [],
            "needs_background": "light"
          }
        },
        {
          "output_type": "stream",
          "text": [
            "0.9901652336120605\n",
            "0.9787735939025879\n"
          ],
          "name": "stdout"
        }
      ]
    },
    {
      "cell_type": "code",
      "metadata": {
        "colab": {
          "base_uri": "https://localhost:8080/",
          "height": 329
        },
        "id": "g19PwjEI9dJp",
        "outputId": "c796a11a-1d5f-4039-ed81-15b35984d705"
      },
      "source": [
        "plt.plot(history_larger.history['loss'])\n",
        "plt.plot(history_larger.history['val_loss'])\n",
        "plt.title('model loss')\n",
        "plt.ylabel('loss')\n",
        "plt.xlabel('epoch')\n",
        "plt.legend(['train', 'test'], loc='upper left')\n",
        "plt.show()\n",
        "print(history_larger.history['loss'][-1])\n",
        "print(history_larger.history['val_loss'][-1])"
      ],
      "execution_count": null,
      "outputs": [
        {
          "output_type": "display_data",
          "data": {
            "image/png": "[encoded data removed]",
            "text/plain": [
              "<Figure size 432x288 with 1 Axes>"
            ]
          },
          "metadata": {
            "tags": [],
            "needs_background": "light"
          }
        },
        {
          "output_type": "stream",
          "text": [
            "0.02606046013534069\n",
            "0.11194398254156113\n"
          ],
          "name": "stdout"
        }
      ]
    },
    {
      "cell_type": "code",
      "metadata": {
        "id": "eiMcO_vi-wx_"
      },
      "source": [
        "model.save(\"models/squats_small.h5\")"
      ],
      "execution_count": null,
      "outputs": []
    },
    {
      "cell_type": "code",
      "metadata": {
        "id": "hAvJErQr_u_8"
      },
      "source": [
        "larger_model.save(\"models/squats_large.h5\")"
      ],
      "execution_count": null,
      "outputs": []
    },
    {
      "cell_type": "code",
      "metadata": {
        "id": "SNWERAHn0i-n"
      },
      "source": [],
      "execution_count": null,
      "outputs": []
    }
  ]
}